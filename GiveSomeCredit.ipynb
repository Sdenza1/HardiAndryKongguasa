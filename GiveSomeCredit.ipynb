{
 "cells": [
  {
   "cell_type": "code",
   "execution_count": 1,
   "id": "15d880ee",
   "metadata": {
    "execution": {
     "iopub.execute_input": "2022-12-04T10:35:04.273290Z",
     "iopub.status.busy": "2022-12-04T10:35:04.272922Z",
     "iopub.status.idle": "2022-12-04T10:35:04.278549Z",
     "shell.execute_reply": "2022-12-04T10:35:04.277781Z",
     "shell.execute_reply.started": "2022-12-04T10:35:04.273259Z"
    }
   },
   "outputs": [],
   "source": [
    "import pandas as pd\n",
    "import numpy as np\n",
    "import matplotlib.pyplot as plt\n",
    "from scipy import stats \n",
    "from matplotlib import cm\n",
    "import seaborn as sns"
   ]
  },
  {
   "cell_type": "code",
   "execution_count": 2,
   "id": "41573824",
   "metadata": {
    "execution": {
     "iopub.execute_input": "2022-12-04T10:35:04.297758Z",
     "iopub.status.busy": "2022-12-04T10:35:04.296970Z",
     "iopub.status.idle": "2022-12-04T10:35:04.306216Z",
     "shell.execute_reply": "2022-12-04T10:35:04.305067Z",
     "shell.execute_reply.started": "2022-12-04T10:35:04.297715Z"
    }
   },
   "outputs": [],
   "source": [
    "# Template Kaggle Notebook\n",
    "# This Python 3 environment comes with many helpful analytics libraries installed\n",
    "# It is defined by the kaggle/python Docker image: https://github.com/kaggle/docker-python\n",
    "# For example, here's several helpful packages to load\n",
    "\n",
    "import numpy as np # linear algebra\n",
    "import pandas as pd # data processing, CSV file I/O (e.g. pd.read_csv)\n",
    "\n",
    "# Input data files are available in the read-only \"../input/\" directory\n",
    "# For example, running this (by clicking run or pressing Shift+Enter) will list all files under the input directory\n",
    "\n",
    "import os\n",
    "for dirname, _, filenames in os.walk('/kaggle/input'):\n",
    "    for filename in filenames:\n",
    "        print(os.path.join(dirname, filename))\n",
    "\n",
    "# You can write up to 20GB to the current directory (/kaggle/working/) that gets preserved as output when you create a version using \"Save & Run All\" \n",
    "# You can also write temporary files to /kaggle/temp/, but they won't be saved outside of the current session"
   ]
  },
  {
   "cell_type": "code",
   "execution_count": 3,
   "id": "bbb76d3a",
   "metadata": {
    "execution": {
     "iopub.execute_input": "2022-12-04T10:35:04.334710Z",
     "iopub.status.busy": "2022-12-04T10:35:04.334298Z",
     "iopub.status.idle": "2022-12-04T10:35:04.550518Z",
     "shell.execute_reply": "2022-12-04T10:35:04.549691Z",
     "shell.execute_reply.started": "2022-12-04T10:35:04.334675Z"
    }
   },
   "outputs": [],
   "source": [
    "df_train = pd.read_csv('cs-training.csv',index_col=0)\n",
    "df_test = pd.read_csv('cs-test.csv',index_col=0)\n",
    "Submission = pd.read_csv('sampleEntry.csv')"
   ]
  },
  {
   "cell_type": "markdown",
   "id": "faacc07e",
   "metadata": {},
   "source": [
    "# EDA"
   ]
  },
  {
   "cell_type": "code",
   "execution_count": 4,
   "id": "d2d08081",
   "metadata": {
    "execution": {
     "iopub.execute_input": "2022-12-04T10:35:04.552467Z",
     "iopub.status.busy": "2022-12-04T10:35:04.552148Z",
     "iopub.status.idle": "2022-12-04T10:35:04.568250Z",
     "shell.execute_reply": "2022-12-04T10:35:04.567214Z",
     "shell.execute_reply.started": "2022-12-04T10:35:04.552436Z"
    }
   },
   "outputs": [
    {
     "data": {
      "text/html": [
       "<div>\n",
       "<style scoped>\n",
       "    .dataframe tbody tr th:only-of-type {\n",
       "        vertical-align: middle;\n",
       "    }\n",
       "\n",
       "    .dataframe tbody tr th {\n",
       "        vertical-align: top;\n",
       "    }\n",
       "\n",
       "    .dataframe thead th {\n",
       "        text-align: right;\n",
       "    }\n",
       "</style>\n",
       "<table border=\"1\" class=\"dataframe\">\n",
       "  <thead>\n",
       "    <tr style=\"text-align: right;\">\n",
       "      <th></th>\n",
       "      <th>SeriousDlqin2yrs</th>\n",
       "      <th>RevolvingUtilizationOfUnsecuredLines</th>\n",
       "      <th>age</th>\n",
       "      <th>NumberOfTime30-59DaysPastDueNotWorse</th>\n",
       "      <th>DebtRatio</th>\n",
       "      <th>MonthlyIncome</th>\n",
       "      <th>NumberOfOpenCreditLinesAndLoans</th>\n",
       "      <th>NumberOfTimes90DaysLate</th>\n",
       "      <th>NumberRealEstateLoansOrLines</th>\n",
       "      <th>NumberOfTime60-89DaysPastDueNotWorse</th>\n",
       "      <th>NumberOfDependents</th>\n",
       "    </tr>\n",
       "  </thead>\n",
       "  <tbody>\n",
       "    <tr>\n",
       "      <th>1</th>\n",
       "      <td>1</td>\n",
       "      <td>0.766127</td>\n",
       "      <td>45</td>\n",
       "      <td>2</td>\n",
       "      <td>0.802982</td>\n",
       "      <td>9120.0</td>\n",
       "      <td>13</td>\n",
       "      <td>0</td>\n",
       "      <td>6</td>\n",
       "      <td>0</td>\n",
       "      <td>2.0</td>\n",
       "    </tr>\n",
       "    <tr>\n",
       "      <th>2</th>\n",
       "      <td>0</td>\n",
       "      <td>0.957151</td>\n",
       "      <td>40</td>\n",
       "      <td>0</td>\n",
       "      <td>0.121876</td>\n",
       "      <td>2600.0</td>\n",
       "      <td>4</td>\n",
       "      <td>0</td>\n",
       "      <td>0</td>\n",
       "      <td>0</td>\n",
       "      <td>1.0</td>\n",
       "    </tr>\n",
       "    <tr>\n",
       "      <th>3</th>\n",
       "      <td>0</td>\n",
       "      <td>0.658180</td>\n",
       "      <td>38</td>\n",
       "      <td>1</td>\n",
       "      <td>0.085113</td>\n",
       "      <td>3042.0</td>\n",
       "      <td>2</td>\n",
       "      <td>1</td>\n",
       "      <td>0</td>\n",
       "      <td>0</td>\n",
       "      <td>0.0</td>\n",
       "    </tr>\n",
       "    <tr>\n",
       "      <th>4</th>\n",
       "      <td>0</td>\n",
       "      <td>0.233810</td>\n",
       "      <td>30</td>\n",
       "      <td>0</td>\n",
       "      <td>0.036050</td>\n",
       "      <td>3300.0</td>\n",
       "      <td>5</td>\n",
       "      <td>0</td>\n",
       "      <td>0</td>\n",
       "      <td>0</td>\n",
       "      <td>0.0</td>\n",
       "    </tr>\n",
       "    <tr>\n",
       "      <th>5</th>\n",
       "      <td>0</td>\n",
       "      <td>0.907239</td>\n",
       "      <td>49</td>\n",
       "      <td>1</td>\n",
       "      <td>0.024926</td>\n",
       "      <td>63588.0</td>\n",
       "      <td>7</td>\n",
       "      <td>0</td>\n",
       "      <td>1</td>\n",
       "      <td>0</td>\n",
       "      <td>0.0</td>\n",
       "    </tr>\n",
       "    <tr>\n",
       "      <th>...</th>\n",
       "      <td>...</td>\n",
       "      <td>...</td>\n",
       "      <td>...</td>\n",
       "      <td>...</td>\n",
       "      <td>...</td>\n",
       "      <td>...</td>\n",
       "      <td>...</td>\n",
       "      <td>...</td>\n",
       "      <td>...</td>\n",
       "      <td>...</td>\n",
       "      <td>...</td>\n",
       "    </tr>\n",
       "    <tr>\n",
       "      <th>14996</th>\n",
       "      <td>0</td>\n",
       "      <td>0.051347</td>\n",
       "      <td>68</td>\n",
       "      <td>0</td>\n",
       "      <td>0.405181</td>\n",
       "      <td>4207.0</td>\n",
       "      <td>10</td>\n",
       "      <td>0</td>\n",
       "      <td>1</td>\n",
       "      <td>0</td>\n",
       "      <td>0.0</td>\n",
       "    </tr>\n",
       "    <tr>\n",
       "      <th>14997</th>\n",
       "      <td>0</td>\n",
       "      <td>0.044247</td>\n",
       "      <td>76</td>\n",
       "      <td>0</td>\n",
       "      <td>0.338915</td>\n",
       "      <td>4000.0</td>\n",
       "      <td>6</td>\n",
       "      <td>0</td>\n",
       "      <td>1</td>\n",
       "      <td>0</td>\n",
       "      <td>0.0</td>\n",
       "    </tr>\n",
       "    <tr>\n",
       "      <th>14998</th>\n",
       "      <td>0</td>\n",
       "      <td>0.014464</td>\n",
       "      <td>60</td>\n",
       "      <td>0</td>\n",
       "      <td>0.238159</td>\n",
       "      <td>9732.0</td>\n",
       "      <td>12</td>\n",
       "      <td>0</td>\n",
       "      <td>2</td>\n",
       "      <td>0</td>\n",
       "      <td>1.0</td>\n",
       "    </tr>\n",
       "    <tr>\n",
       "      <th>14999</th>\n",
       "      <td>0</td>\n",
       "      <td>0.057423</td>\n",
       "      <td>47</td>\n",
       "      <td>0</td>\n",
       "      <td>96.000000</td>\n",
       "      <td>NaN</td>\n",
       "      <td>5</td>\n",
       "      <td>0</td>\n",
       "      <td>0</td>\n",
       "      <td>0</td>\n",
       "      <td>0.0</td>\n",
       "    </tr>\n",
       "    <tr>\n",
       "      <th>15000</th>\n",
       "      <td>0</td>\n",
       "      <td>0.389083</td>\n",
       "      <td>46</td>\n",
       "      <td>0</td>\n",
       "      <td>3615.000000</td>\n",
       "      <td>NaN</td>\n",
       "      <td>6</td>\n",
       "      <td>0</td>\n",
       "      <td>1</td>\n",
       "      <td>0</td>\n",
       "      <td>0.0</td>\n",
       "    </tr>\n",
       "  </tbody>\n",
       "</table>\n",
       "<p>15000 rows × 11 columns</p>\n",
       "</div>"
      ],
      "text/plain": [
       "       SeriousDlqin2yrs  RevolvingUtilizationOfUnsecuredLines  age  \\\n",
       "1                     1                              0.766127   45   \n",
       "2                     0                              0.957151   40   \n",
       "3                     0                              0.658180   38   \n",
       "4                     0                              0.233810   30   \n",
       "5                     0                              0.907239   49   \n",
       "...                 ...                                   ...  ...   \n",
       "14996                 0                              0.051347   68   \n",
       "14997                 0                              0.044247   76   \n",
       "14998                 0                              0.014464   60   \n",
       "14999                 0                              0.057423   47   \n",
       "15000                 0                              0.389083   46   \n",
       "\n",
       "       NumberOfTime30-59DaysPastDueNotWorse    DebtRatio  MonthlyIncome  \\\n",
       "1                                         2     0.802982         9120.0   \n",
       "2                                         0     0.121876         2600.0   \n",
       "3                                         1     0.085113         3042.0   \n",
       "4                                         0     0.036050         3300.0   \n",
       "5                                         1     0.024926        63588.0   \n",
       "...                                     ...          ...            ...   \n",
       "14996                                     0     0.405181         4207.0   \n",
       "14997                                     0     0.338915         4000.0   \n",
       "14998                                     0     0.238159         9732.0   \n",
       "14999                                     0    96.000000            NaN   \n",
       "15000                                     0  3615.000000            NaN   \n",
       "\n",
       "       NumberOfOpenCreditLinesAndLoans  NumberOfTimes90DaysLate  \\\n",
       "1                                   13                        0   \n",
       "2                                    4                        0   \n",
       "3                                    2                        1   \n",
       "4                                    5                        0   \n",
       "5                                    7                        0   \n",
       "...                                ...                      ...   \n",
       "14996                               10                        0   \n",
       "14997                                6                        0   \n",
       "14998                               12                        0   \n",
       "14999                                5                        0   \n",
       "15000                                6                        0   \n",
       "\n",
       "       NumberRealEstateLoansOrLines  NumberOfTime60-89DaysPastDueNotWorse  \\\n",
       "1                                 6                                     0   \n",
       "2                                 0                                     0   \n",
       "3                                 0                                     0   \n",
       "4                                 0                                     0   \n",
       "5                                 1                                     0   \n",
       "...                             ...                                   ...   \n",
       "14996                             1                                     0   \n",
       "14997                             1                                     0   \n",
       "14998                             2                                     0   \n",
       "14999                             0                                     0   \n",
       "15000                             1                                     0   \n",
       "\n",
       "       NumberOfDependents  \n",
       "1                     2.0  \n",
       "2                     1.0  \n",
       "3                     0.0  \n",
       "4                     0.0  \n",
       "5                     0.0  \n",
       "...                   ...  \n",
       "14996                 0.0  \n",
       "14997                 0.0  \n",
       "14998                 1.0  \n",
       "14999                 0.0  \n",
       "15000                 0.0  \n",
       "\n",
       "[15000 rows x 11 columns]"
      ]
     },
     "execution_count": 4,
     "metadata": {},
     "output_type": "execute_result"
    }
   ],
   "source": [
    "df_train.head(15000)"
   ]
  },
  {
   "cell_type": "code",
   "execution_count": 5,
   "id": "1df5d22a",
   "metadata": {
    "execution": {
     "iopub.execute_input": "2022-12-04T10:35:04.571166Z",
     "iopub.status.busy": "2022-12-04T10:35:04.570202Z",
     "iopub.status.idle": "2022-12-04T10:35:04.593411Z",
     "shell.execute_reply": "2022-12-04T10:35:04.592341Z",
     "shell.execute_reply.started": "2022-12-04T10:35:04.571121Z"
    }
   },
   "outputs": [
    {
     "data": {
      "text/html": [
       "<div>\n",
       "<style scoped>\n",
       "    .dataframe tbody tr th:only-of-type {\n",
       "        vertical-align: middle;\n",
       "    }\n",
       "\n",
       "    .dataframe tbody tr th {\n",
       "        vertical-align: top;\n",
       "    }\n",
       "\n",
       "    .dataframe thead th {\n",
       "        text-align: right;\n",
       "    }\n",
       "</style>\n",
       "<table border=\"1\" class=\"dataframe\">\n",
       "  <thead>\n",
       "    <tr style=\"text-align: right;\">\n",
       "      <th></th>\n",
       "      <th>SeriousDlqin2yrs</th>\n",
       "      <th>RevolvingUtilizationOfUnsecuredLines</th>\n",
       "      <th>age</th>\n",
       "      <th>NumberOfTime30-59DaysPastDueNotWorse</th>\n",
       "      <th>DebtRatio</th>\n",
       "      <th>MonthlyIncome</th>\n",
       "      <th>NumberOfOpenCreditLinesAndLoans</th>\n",
       "      <th>NumberOfTimes90DaysLate</th>\n",
       "      <th>NumberRealEstateLoansOrLines</th>\n",
       "      <th>NumberOfTime60-89DaysPastDueNotWorse</th>\n",
       "      <th>NumberOfDependents</th>\n",
       "    </tr>\n",
       "  </thead>\n",
       "  <tbody>\n",
       "    <tr>\n",
       "      <th>1</th>\n",
       "      <td>NaN</td>\n",
       "      <td>0.885519</td>\n",
       "      <td>43</td>\n",
       "      <td>0</td>\n",
       "      <td>0.177513</td>\n",
       "      <td>5700.0</td>\n",
       "      <td>4</td>\n",
       "      <td>0</td>\n",
       "      <td>0</td>\n",
       "      <td>0</td>\n",
       "      <td>0.0</td>\n",
       "    </tr>\n",
       "    <tr>\n",
       "      <th>2</th>\n",
       "      <td>NaN</td>\n",
       "      <td>0.463295</td>\n",
       "      <td>57</td>\n",
       "      <td>0</td>\n",
       "      <td>0.527237</td>\n",
       "      <td>9141.0</td>\n",
       "      <td>15</td>\n",
       "      <td>0</td>\n",
       "      <td>4</td>\n",
       "      <td>0</td>\n",
       "      <td>2.0</td>\n",
       "    </tr>\n",
       "    <tr>\n",
       "      <th>3</th>\n",
       "      <td>NaN</td>\n",
       "      <td>0.043275</td>\n",
       "      <td>59</td>\n",
       "      <td>0</td>\n",
       "      <td>0.687648</td>\n",
       "      <td>5083.0</td>\n",
       "      <td>12</td>\n",
       "      <td>0</td>\n",
       "      <td>1</td>\n",
       "      <td>0</td>\n",
       "      <td>2.0</td>\n",
       "    </tr>\n",
       "    <tr>\n",
       "      <th>4</th>\n",
       "      <td>NaN</td>\n",
       "      <td>0.280308</td>\n",
       "      <td>38</td>\n",
       "      <td>1</td>\n",
       "      <td>0.925961</td>\n",
       "      <td>3200.0</td>\n",
       "      <td>7</td>\n",
       "      <td>0</td>\n",
       "      <td>2</td>\n",
       "      <td>0</td>\n",
       "      <td>0.0</td>\n",
       "    </tr>\n",
       "    <tr>\n",
       "      <th>5</th>\n",
       "      <td>NaN</td>\n",
       "      <td>1.000000</td>\n",
       "      <td>27</td>\n",
       "      <td>0</td>\n",
       "      <td>0.019917</td>\n",
       "      <td>3865.0</td>\n",
       "      <td>4</td>\n",
       "      <td>0</td>\n",
       "      <td>0</td>\n",
       "      <td>0</td>\n",
       "      <td>1.0</td>\n",
       "    </tr>\n",
       "  </tbody>\n",
       "</table>\n",
       "</div>"
      ],
      "text/plain": [
       "   SeriousDlqin2yrs  RevolvingUtilizationOfUnsecuredLines  age  \\\n",
       "1               NaN                              0.885519   43   \n",
       "2               NaN                              0.463295   57   \n",
       "3               NaN                              0.043275   59   \n",
       "4               NaN                              0.280308   38   \n",
       "5               NaN                              1.000000   27   \n",
       "\n",
       "   NumberOfTime30-59DaysPastDueNotWorse  DebtRatio  MonthlyIncome  \\\n",
       "1                                     0   0.177513         5700.0   \n",
       "2                                     0   0.527237         9141.0   \n",
       "3                                     0   0.687648         5083.0   \n",
       "4                                     1   0.925961         3200.0   \n",
       "5                                     0   0.019917         3865.0   \n",
       "\n",
       "   NumberOfOpenCreditLinesAndLoans  NumberOfTimes90DaysLate  \\\n",
       "1                                4                        0   \n",
       "2                               15                        0   \n",
       "3                               12                        0   \n",
       "4                                7                        0   \n",
       "5                                4                        0   \n",
       "\n",
       "   NumberRealEstateLoansOrLines  NumberOfTime60-89DaysPastDueNotWorse  \\\n",
       "1                             0                                     0   \n",
       "2                             4                                     0   \n",
       "3                             1                                     0   \n",
       "4                             2                                     0   \n",
       "5                             0                                     0   \n",
       "\n",
       "   NumberOfDependents  \n",
       "1                 0.0  \n",
       "2                 2.0  \n",
       "3                 2.0  \n",
       "4                 0.0  \n",
       "5                 1.0  "
      ]
     },
     "execution_count": 5,
     "metadata": {},
     "output_type": "execute_result"
    }
   ],
   "source": [
    "df_test.head()"
   ]
  },
  {
   "cell_type": "code",
   "execution_count": 6,
   "id": "ab806d90",
   "metadata": {
    "execution": {
     "iopub.execute_input": "2022-12-04T10:35:04.596288Z",
     "iopub.status.busy": "2022-12-04T10:35:04.595948Z",
     "iopub.status.idle": "2022-12-04T10:35:04.602076Z",
     "shell.execute_reply": "2022-12-04T10:35:04.600916Z",
     "shell.execute_reply.started": "2022-12-04T10:35:04.596257Z"
    }
   },
   "outputs": [
    {
     "name": "stdout",
     "output_type": "stream",
     "text": [
      "(150000, 11)\n",
      "(101503, 11)\n"
     ]
    }
   ],
   "source": [
    "print(df_train.shape)\n",
    "print(df_test.shape)\n",
    "#Semua Fitur sama"
   ]
  },
  {
   "cell_type": "code",
   "execution_count": 7,
   "id": "25a65622",
   "metadata": {
    "execution": {
     "iopub.execute_input": "2022-12-04T10:35:04.603670Z",
     "iopub.status.busy": "2022-12-04T10:35:04.603352Z",
     "iopub.status.idle": "2022-12-04T10:35:04.623705Z",
     "shell.execute_reply": "2022-12-04T10:35:04.622553Z",
     "shell.execute_reply.started": "2022-12-04T10:35:04.603641Z"
    }
   },
   "outputs": [
    {
     "name": "stdout",
     "output_type": "stream",
     "text": [
      "<class 'pandas.core.frame.DataFrame'>\n",
      "Int64Index: 150000 entries, 1 to 150000\n",
      "Data columns (total 11 columns):\n",
      " #   Column                                Non-Null Count   Dtype  \n",
      "---  ------                                --------------   -----  \n",
      " 0   SeriousDlqin2yrs                      150000 non-null  int64  \n",
      " 1   RevolvingUtilizationOfUnsecuredLines  150000 non-null  float64\n",
      " 2   age                                   150000 non-null  int64  \n",
      " 3   NumberOfTime30-59DaysPastDueNotWorse  150000 non-null  int64  \n",
      " 4   DebtRatio                             150000 non-null  float64\n",
      " 5   MonthlyIncome                         120269 non-null  float64\n",
      " 6   NumberOfOpenCreditLinesAndLoans       150000 non-null  int64  \n",
      " 7   NumberOfTimes90DaysLate               150000 non-null  int64  \n",
      " 8   NumberRealEstateLoansOrLines          150000 non-null  int64  \n",
      " 9   NumberOfTime60-89DaysPastDueNotWorse  150000 non-null  int64  \n",
      " 10  NumberOfDependents                    146076 non-null  float64\n",
      "dtypes: float64(4), int64(7)\n",
      "memory usage: 13.7 MB\n"
     ]
    }
   ],
   "source": [
    "df_train.info()\n",
    "#Melihat tipe data"
   ]
  },
  {
   "cell_type": "code",
   "execution_count": 8,
   "id": "49489323",
   "metadata": {
    "execution": {
     "iopub.execute_input": "2022-12-04T10:35:04.625331Z",
     "iopub.status.busy": "2022-12-04T10:35:04.624994Z",
     "iopub.status.idle": "2022-12-04T10:35:04.643600Z",
     "shell.execute_reply": "2022-12-04T10:35:04.642105Z",
     "shell.execute_reply.started": "2022-12-04T10:35:04.625300Z"
    }
   },
   "outputs": [
    {
     "name": "stdout",
     "output_type": "stream",
     "text": [
      "<class 'pandas.core.frame.DataFrame'>\n",
      "Int64Index: 101503 entries, 1 to 101503\n",
      "Data columns (total 11 columns):\n",
      " #   Column                                Non-Null Count   Dtype  \n",
      "---  ------                                --------------   -----  \n",
      " 0   SeriousDlqin2yrs                      0 non-null       float64\n",
      " 1   RevolvingUtilizationOfUnsecuredLines  101503 non-null  float64\n",
      " 2   age                                   101503 non-null  int64  \n",
      " 3   NumberOfTime30-59DaysPastDueNotWorse  101503 non-null  int64  \n",
      " 4   DebtRatio                             101503 non-null  float64\n",
      " 5   MonthlyIncome                         81400 non-null   float64\n",
      " 6   NumberOfOpenCreditLinesAndLoans       101503 non-null  int64  \n",
      " 7   NumberOfTimes90DaysLate               101503 non-null  int64  \n",
      " 8   NumberRealEstateLoansOrLines          101503 non-null  int64  \n",
      " 9   NumberOfTime60-89DaysPastDueNotWorse  101503 non-null  int64  \n",
      " 10  NumberOfDependents                    98877 non-null   float64\n",
      "dtypes: float64(5), int64(6)\n",
      "memory usage: 9.3 MB\n"
     ]
    }
   ],
   "source": [
    "df_test.info()"
   ]
  },
  {
   "cell_type": "code",
   "execution_count": 9,
   "id": "9f1816ae",
   "metadata": {
    "execution": {
     "iopub.execute_input": "2022-12-04T10:35:04.645426Z",
     "iopub.status.busy": "2022-12-04T10:35:04.644776Z",
     "iopub.status.idle": "2022-12-04T10:35:04.661699Z",
     "shell.execute_reply": "2022-12-04T10:35:04.660176Z",
     "shell.execute_reply.started": "2022-12-04T10:35:04.645389Z"
    }
   },
   "outputs": [
    {
     "data": {
      "text/plain": [
       "SeriousDlqin2yrs                        101503\n",
       "RevolvingUtilizationOfUnsecuredLines         0\n",
       "age                                          0\n",
       "NumberOfTime30-59DaysPastDueNotWorse         0\n",
       "DebtRatio                                    0\n",
       "MonthlyIncome                            20103\n",
       "NumberOfOpenCreditLinesAndLoans              0\n",
       "NumberOfTimes90DaysLate                      0\n",
       "NumberRealEstateLoansOrLines                 0\n",
       "NumberOfTime60-89DaysPastDueNotWorse         0\n",
       "NumberOfDependents                        2626\n",
       "dtype: int64"
      ]
     },
     "execution_count": 9,
     "metadata": {},
     "output_type": "execute_result"
    }
   ],
   "source": [
    "df_test.isnull().sum()\n",
    "#ada Beberapa data Null dalam Test data"
   ]
  },
  {
   "cell_type": "code",
   "execution_count": 10,
   "id": "31f5e407",
   "metadata": {
    "execution": {
     "iopub.execute_input": "2022-12-04T10:35:04.663614Z",
     "iopub.status.busy": "2022-12-04T10:35:04.663198Z",
     "iopub.status.idle": "2022-12-04T10:35:04.677551Z",
     "shell.execute_reply": "2022-12-04T10:35:04.676665Z",
     "shell.execute_reply.started": "2022-12-04T10:35:04.663581Z"
    }
   },
   "outputs": [
    {
     "data": {
      "text/plain": [
       "SeriousDlqin2yrs                            0\n",
       "RevolvingUtilizationOfUnsecuredLines        0\n",
       "age                                         0\n",
       "NumberOfTime30-59DaysPastDueNotWorse        0\n",
       "DebtRatio                                   0\n",
       "MonthlyIncome                           29731\n",
       "NumberOfOpenCreditLinesAndLoans             0\n",
       "NumberOfTimes90DaysLate                     0\n",
       "NumberRealEstateLoansOrLines                0\n",
       "NumberOfTime60-89DaysPastDueNotWorse        0\n",
       "NumberOfDependents                       3924\n",
       "dtype: int64"
      ]
     },
     "execution_count": 10,
     "metadata": {},
     "output_type": "execute_result"
    }
   ],
   "source": [
    "df_train.isnull().sum()\n",
    "#ada Beberapa data Null dalam train data"
   ]
  },
  {
   "cell_type": "code",
   "execution_count": 11,
   "id": "6f637bcb",
   "metadata": {
    "execution": {
     "iopub.execute_input": "2022-12-04T10:35:04.680477Z",
     "iopub.status.busy": "2022-12-04T10:35:04.679165Z",
     "iopub.status.idle": "2022-12-04T10:35:04.793213Z",
     "shell.execute_reply": "2022-12-04T10:35:04.792025Z",
     "shell.execute_reply.started": "2022-12-04T10:35:04.680427Z"
    }
   },
   "outputs": [
    {
     "data": {
      "text/html": [
       "<div>\n",
       "<style scoped>\n",
       "    .dataframe tbody tr th:only-of-type {\n",
       "        vertical-align: middle;\n",
       "    }\n",
       "\n",
       "    .dataframe tbody tr th {\n",
       "        vertical-align: top;\n",
       "    }\n",
       "\n",
       "    .dataframe thead th {\n",
       "        text-align: right;\n",
       "    }\n",
       "</style>\n",
       "<table border=\"1\" class=\"dataframe\">\n",
       "  <thead>\n",
       "    <tr style=\"text-align: right;\">\n",
       "      <th></th>\n",
       "      <th>SeriousDlqin2yrs</th>\n",
       "      <th>RevolvingUtilizationOfUnsecuredLines</th>\n",
       "      <th>age</th>\n",
       "      <th>NumberOfTime30-59DaysPastDueNotWorse</th>\n",
       "      <th>DebtRatio</th>\n",
       "      <th>MonthlyIncome</th>\n",
       "      <th>NumberOfOpenCreditLinesAndLoans</th>\n",
       "      <th>NumberOfTimes90DaysLate</th>\n",
       "      <th>NumberRealEstateLoansOrLines</th>\n",
       "      <th>NumberOfTime60-89DaysPastDueNotWorse</th>\n",
       "      <th>NumberOfDependents</th>\n",
       "    </tr>\n",
       "  </thead>\n",
       "  <tbody>\n",
       "    <tr>\n",
       "      <th>count</th>\n",
       "      <td>150000.000000</td>\n",
       "      <td>150000.000000</td>\n",
       "      <td>150000.000000</td>\n",
       "      <td>150000.000000</td>\n",
       "      <td>150000.000000</td>\n",
       "      <td>1.202690e+05</td>\n",
       "      <td>150000.000000</td>\n",
       "      <td>150000.000000</td>\n",
       "      <td>150000.000000</td>\n",
       "      <td>150000.000000</td>\n",
       "      <td>146076.000000</td>\n",
       "    </tr>\n",
       "    <tr>\n",
       "      <th>mean</th>\n",
       "      <td>0.066840</td>\n",
       "      <td>6.048438</td>\n",
       "      <td>52.295207</td>\n",
       "      <td>0.421033</td>\n",
       "      <td>353.005076</td>\n",
       "      <td>6.670221e+03</td>\n",
       "      <td>8.452760</td>\n",
       "      <td>0.265973</td>\n",
       "      <td>1.018240</td>\n",
       "      <td>0.240387</td>\n",
       "      <td>0.757222</td>\n",
       "    </tr>\n",
       "    <tr>\n",
       "      <th>std</th>\n",
       "      <td>0.249746</td>\n",
       "      <td>249.755371</td>\n",
       "      <td>14.771866</td>\n",
       "      <td>4.192781</td>\n",
       "      <td>2037.818523</td>\n",
       "      <td>1.438467e+04</td>\n",
       "      <td>5.145951</td>\n",
       "      <td>4.169304</td>\n",
       "      <td>1.129771</td>\n",
       "      <td>4.155179</td>\n",
       "      <td>1.115086</td>\n",
       "    </tr>\n",
       "    <tr>\n",
       "      <th>min</th>\n",
       "      <td>0.000000</td>\n",
       "      <td>0.000000</td>\n",
       "      <td>0.000000</td>\n",
       "      <td>0.000000</td>\n",
       "      <td>0.000000</td>\n",
       "      <td>0.000000e+00</td>\n",
       "      <td>0.000000</td>\n",
       "      <td>0.000000</td>\n",
       "      <td>0.000000</td>\n",
       "      <td>0.000000</td>\n",
       "      <td>0.000000</td>\n",
       "    </tr>\n",
       "    <tr>\n",
       "      <th>25%</th>\n",
       "      <td>0.000000</td>\n",
       "      <td>0.029867</td>\n",
       "      <td>41.000000</td>\n",
       "      <td>0.000000</td>\n",
       "      <td>0.175074</td>\n",
       "      <td>3.400000e+03</td>\n",
       "      <td>5.000000</td>\n",
       "      <td>0.000000</td>\n",
       "      <td>0.000000</td>\n",
       "      <td>0.000000</td>\n",
       "      <td>0.000000</td>\n",
       "    </tr>\n",
       "    <tr>\n",
       "      <th>50%</th>\n",
       "      <td>0.000000</td>\n",
       "      <td>0.154181</td>\n",
       "      <td>52.000000</td>\n",
       "      <td>0.000000</td>\n",
       "      <td>0.366508</td>\n",
       "      <td>5.400000e+03</td>\n",
       "      <td>8.000000</td>\n",
       "      <td>0.000000</td>\n",
       "      <td>1.000000</td>\n",
       "      <td>0.000000</td>\n",
       "      <td>0.000000</td>\n",
       "    </tr>\n",
       "    <tr>\n",
       "      <th>75%</th>\n",
       "      <td>0.000000</td>\n",
       "      <td>0.559046</td>\n",
       "      <td>63.000000</td>\n",
       "      <td>0.000000</td>\n",
       "      <td>0.868254</td>\n",
       "      <td>8.249000e+03</td>\n",
       "      <td>11.000000</td>\n",
       "      <td>0.000000</td>\n",
       "      <td>2.000000</td>\n",
       "      <td>0.000000</td>\n",
       "      <td>1.000000</td>\n",
       "    </tr>\n",
       "    <tr>\n",
       "      <th>max</th>\n",
       "      <td>1.000000</td>\n",
       "      <td>50708.000000</td>\n",
       "      <td>109.000000</td>\n",
       "      <td>98.000000</td>\n",
       "      <td>329664.000000</td>\n",
       "      <td>3.008750e+06</td>\n",
       "      <td>58.000000</td>\n",
       "      <td>98.000000</td>\n",
       "      <td>54.000000</td>\n",
       "      <td>98.000000</td>\n",
       "      <td>20.000000</td>\n",
       "    </tr>\n",
       "  </tbody>\n",
       "</table>\n",
       "</div>"
      ],
      "text/plain": [
       "       SeriousDlqin2yrs  RevolvingUtilizationOfUnsecuredLines            age  \\\n",
       "count     150000.000000                         150000.000000  150000.000000   \n",
       "mean           0.066840                              6.048438      52.295207   \n",
       "std            0.249746                            249.755371      14.771866   \n",
       "min            0.000000                              0.000000       0.000000   \n",
       "25%            0.000000                              0.029867      41.000000   \n",
       "50%            0.000000                              0.154181      52.000000   \n",
       "75%            0.000000                              0.559046      63.000000   \n",
       "max            1.000000                          50708.000000     109.000000   \n",
       "\n",
       "       NumberOfTime30-59DaysPastDueNotWorse      DebtRatio  MonthlyIncome  \\\n",
       "count                         150000.000000  150000.000000   1.202690e+05   \n",
       "mean                               0.421033     353.005076   6.670221e+03   \n",
       "std                                4.192781    2037.818523   1.438467e+04   \n",
       "min                                0.000000       0.000000   0.000000e+00   \n",
       "25%                                0.000000       0.175074   3.400000e+03   \n",
       "50%                                0.000000       0.366508   5.400000e+03   \n",
       "75%                                0.000000       0.868254   8.249000e+03   \n",
       "max                               98.000000  329664.000000   3.008750e+06   \n",
       "\n",
       "       NumberOfOpenCreditLinesAndLoans  NumberOfTimes90DaysLate  \\\n",
       "count                    150000.000000            150000.000000   \n",
       "mean                          8.452760                 0.265973   \n",
       "std                           5.145951                 4.169304   \n",
       "min                           0.000000                 0.000000   \n",
       "25%                           5.000000                 0.000000   \n",
       "50%                           8.000000                 0.000000   \n",
       "75%                          11.000000                 0.000000   \n",
       "max                          58.000000                98.000000   \n",
       "\n",
       "       NumberRealEstateLoansOrLines  NumberOfTime60-89DaysPastDueNotWorse  \\\n",
       "count                 150000.000000                         150000.000000   \n",
       "mean                       1.018240                              0.240387   \n",
       "std                        1.129771                              4.155179   \n",
       "min                        0.000000                              0.000000   \n",
       "25%                        0.000000                              0.000000   \n",
       "50%                        1.000000                              0.000000   \n",
       "75%                        2.000000                              0.000000   \n",
       "max                       54.000000                             98.000000   \n",
       "\n",
       "       NumberOfDependents  \n",
       "count       146076.000000  \n",
       "mean             0.757222  \n",
       "std              1.115086  \n",
       "min              0.000000  \n",
       "25%              0.000000  \n",
       "50%              0.000000  \n",
       "75%              1.000000  \n",
       "max             20.000000  "
      ]
     },
     "execution_count": 11,
     "metadata": {},
     "output_type": "execute_result"
    }
   ],
   "source": [
    "\n",
    "\n",
    "df_train.describe()\n",
    "\n"
   ]
  },
  {
   "cell_type": "code",
   "execution_count": 12,
   "id": "bf25a489",
   "metadata": {
    "execution": {
     "iopub.execute_input": "2022-12-04T10:35:04.798681Z",
     "iopub.status.busy": "2022-12-04T10:35:04.797764Z",
     "iopub.status.idle": "2022-12-04T10:35:05.010433Z",
     "shell.execute_reply": "2022-12-04T10:35:05.009266Z",
     "shell.execute_reply.started": "2022-12-04T10:35:04.798643Z"
    }
   },
   "outputs": [
    {
     "data": {
      "text/plain": [
       "<AxesSubplot:xlabel='SeriousDlqin2yrs', ylabel='count'>"
      ]
     },
     "execution_count": 12,
     "metadata": {},
     "output_type": "execute_result"
    },
    {
     "data": {
      "image/png": "[encoded data removed]",
      "text/plain": [
       "<Figure size 432x288 with 1 Axes>"
      ]
     },
     "metadata": {
      "needs_background": "light"
     },
     "output_type": "display_data"
    }
   ],
   "source": [
    "sns.countplot(x=\"SeriousDlqin2yrs\", data=df_train)\n",
    "# Data 1 adalah orang yang memiliki Tunjakan \n",
    "# Data 0 orang yang tidak memiliki Tunjakan"
   ]
  },
  {
   "cell_type": "code",
   "execution_count": 13,
   "id": "ca7ddc85",
   "metadata": {
    "execution": {
     "iopub.execute_input": "2022-12-04T10:35:05.013363Z",
     "iopub.status.busy": "2022-12-04T10:35:05.012413Z",
     "iopub.status.idle": "2022-12-04T10:35:05.057773Z",
     "shell.execute_reply": "2022-12-04T10:35:05.056557Z",
     "shell.execute_reply.started": "2022-12-04T10:35:05.013305Z"
    }
   },
   "outputs": [
    {
     "name": "stdout",
     "output_type": "stream",
     "text": [
      "Percentage of default: 6.68%\n",
      "Percentage of non-default: 93.32%\n"
     ]
    }
   ],
   "source": [
    "print(f\"Percentage of default: {sum(df_train['SeriousDlqin2yrs'] == 1)/len(df_train)*100:.2f}%\")\n",
    "print(f\"Percentage of non-default: {sum(df_train['SeriousDlqin2yrs'] == 0)/len(df_train)*100:.2f}%\")\n",
    "\n",
    "#Bisa dilihat bahwa sekitar 93 persen tidak memiliki Tunjakan"
   ]
  },
  {
   "cell_type": "code",
   "execution_count": 14,
   "id": "210040e0",
   "metadata": {
    "execution": {
     "iopub.execute_input": "2022-12-04T10:35:05.060520Z",
     "iopub.status.busy": "2022-12-04T10:35:05.059274Z",
     "iopub.status.idle": "2022-12-04T10:35:06.119923Z",
     "shell.execute_reply": "2022-12-04T10:35:06.118664Z",
     "shell.execute_reply.started": "2022-12-04T10:35:05.060467Z"
    }
   },
   "outputs": [
    {
     "data": {
      "image/png": "[encoded data removed]",
      "text/plain": [
       "<Figure size 864x720 with 2 Axes>"
      ]
     },
     "metadata": {
      "needs_background": "light"
     },
     "output_type": "display_data"
    }
   ],
   "source": [
    "plt.figure(figsize=(12,10))\n",
    "sns.heatmap(df_train.corr(), annot=True, cmap=plt.cm.CMRmap_r)\n",
    "plt.show()\n",
    "#Visualisasi hubungan antara feature"
   ]
  },
  {
   "cell_type": "code",
   "execution_count": 15,
   "id": "7b26826b",
   "metadata": {
    "execution": {
     "iopub.execute_input": "2022-12-04T10:35:06.121576Z",
     "iopub.status.busy": "2022-12-04T10:35:06.121241Z",
     "iopub.status.idle": "2022-12-04T10:35:06.137050Z",
     "shell.execute_reply": "2022-12-04T10:35:06.135933Z",
     "shell.execute_reply.started": "2022-12-04T10:35:06.121544Z"
    }
   },
   "outputs": [
    {
     "data": {
      "text/plain": [
       "count    150000.000000\n",
       "mean         52.295207\n",
       "std          14.771866\n",
       "min           0.000000\n",
       "25%          41.000000\n",
       "50%          52.000000\n",
       "75%          63.000000\n",
       "max         109.000000\n",
       "Name: age, dtype: float64"
      ]
     },
     "execution_count": 15,
     "metadata": {},
     "output_type": "execute_result"
    }
   ],
   "source": [
    "\n",
    "\n",
    "df_train[\"age\"].describe()\n",
    "\n"
   ]
  },
  {
   "cell_type": "code",
   "execution_count": 16,
   "id": "05e28497",
   "metadata": {
    "execution": {
     "iopub.execute_input": "2022-12-04T10:35:06.139308Z",
     "iopub.status.busy": "2022-12-04T10:35:06.138456Z",
     "iopub.status.idle": "2022-12-04T10:35:07.137782Z",
     "shell.execute_reply": "2022-12-04T10:35:07.136695Z",
     "shell.execute_reply.started": "2022-12-04T10:35:06.139273Z"
    }
   },
   "outputs": [
    {
     "name": "stderr",
     "output_type": "stream",
     "text": [
      "C:\\Users\\User\\anaconda3\\lib\\site-packages\\seaborn\\distributions.py:2619: FutureWarning: `distplot` is a deprecated function and will be removed in a future version. Please adapt your code to use either `displot` (a figure-level function with similar flexibility) or `histplot` (an axes-level function for histograms).\n",
      "  warnings.warn(msg, FutureWarning)\n"
     ]
    },
    {
     "data": {
      "text/plain": [
       "<AxesSubplot:xlabel='age', ylabel='Density'>"
      ]
     },
     "execution_count": 16,
     "metadata": {},
     "output_type": "execute_result"
    },
    {
     "data": {
      "image/png": "[encoded data removed]",
      "text/plain": [
       "<Figure size 432x288 with 1 Axes>"
      ]
     },
     "metadata": {
      "needs_background": "light"
     },
     "output_type": "display_data"
    }
   ],
   "source": [
    "sns.distplot(df_train[\"age\"])\n",
    "\n",
    "#Dilihat bahwa Seorang umur 40 dengan 60 apply untuk kartu kredit "
   ]
  },
  {
   "cell_type": "code",
   "execution_count": 17,
   "id": "4aaa7462",
   "metadata": {
    "execution": {
     "iopub.execute_input": "2022-12-04T10:35:07.140041Z",
     "iopub.status.busy": "2022-12-04T10:35:07.139203Z",
     "iopub.status.idle": "2022-12-04T10:35:07.536178Z",
     "shell.execute_reply": "2022-12-04T10:35:07.535395Z",
     "shell.execute_reply.started": "2022-12-04T10:35:07.140003Z"
    }
   },
   "outputs": [
    {
     "name": "stderr",
     "output_type": "stream",
     "text": [
      "C:\\Users\\User\\anaconda3\\lib\\site-packages\\seaborn\\distributions.py:2619: FutureWarning: `distplot` is a deprecated function and will be removed in a future version. Please adapt your code to use either `displot` (a figure-level function with similar flexibility) or `histplot` (an axes-level function for histograms).\n",
      "  warnings.warn(msg, FutureWarning)\n"
     ]
    },
    {
     "data": {
      "text/plain": [
       "<AxesSubplot:xlabel='age', ylabel='Density'>"
      ]
     },
     "execution_count": 17,
     "metadata": {},
     "output_type": "execute_result"
    },
    {
     "data": {
      "image/png": "[encoded data removed]",
      "text/plain": [
       "<Figure size 432x288 with 1 Axes>"
      ]
     },
     "metadata": {
      "needs_background": "light"
     },
     "output_type": "display_data"
    }
   ],
   "source": [
    "sns.distplot(df_train.loc[df_train[\"SeriousDlqin2yrs\"] == 1][\"age\"])\n",
    "#dilihat pada histogram dibawah bahwa ada penunjakan kartu kredit pada umur 25 -45"
   ]
  },
  {
   "cell_type": "markdown",
   "id": "82a1b7c5",
   "metadata": {},
   "source": [
    "# Feature Enginering Menghilankan Outlier"
   ]
  },
  {
   "cell_type": "code",
   "execution_count": 97,
   "id": "d1fd2946",
   "metadata": {},
   "outputs": [],
   "source": [
    "from scipy import stats\n",
    "import numpy as np\n",
    "\n",
    "def remove_outliers(df, feature_name, max_scale_from_std):\n",
    "    f = df[feature_name]\n",
    "    std = f.std()\n",
    "    distance_from_mean = f - f.mean()\n",
    "    condition =np.abs(distance_from_mean) >= max_scale_from_std * std\n",
    "    df.loc[condition, feature_name] = f.mean()\n",
    "    \n",
    "    return df"
   ]
  },
  {
   "cell_type": "code",
   "execution_count": 101,
   "id": "3c623708",
   "metadata": {
    "execution": {
     "iopub.execute_input": "2022-12-04T10:35:07.538165Z",
     "iopub.status.busy": "2022-12-04T10:35:07.537313Z",
     "iopub.status.idle": "2022-12-04T10:35:14.175489Z",
     "shell.execute_reply": "2022-12-04T10:35:14.174429Z",
     "shell.execute_reply.started": "2022-12-04T10:35:07.538132Z"
    }
   },
   "outputs": [
    {
     "data": {
      "text/plain": [
       "Text(0.5, 0, 'Sesudah')"
      ]
     },
     "execution_count": 101,
     "metadata": {},
     "output_type": "execute_result"
    },
    {
     "data": {
      "image/png": "[encoded data removed]",
      "text/plain": [
       "<Figure size 936x432 with 2 Axes>"
      ]
     },
     "metadata": {
      "needs_background": "light"
     },
     "output_type": "display_data"
    }
   ],
   "source": [
    "\n",
    "X=df_train['NumberOfTimes90DaysLate']\n",
    "\n",
    "\n",
    "fig, axes = plt.subplots(1, 2, figsize=(13, 6))\n",
    "axes[0].scatter(X, X)\n",
    "axes[0].set_xlabel(\"Sebelum\")\n",
    "\n",
    "df=remove_outliers(df_train,\"NumberOfTimes90DaysLate\", 3)\n",
    "X=df_train[\"NumberOfTimes90DaysLate\"]\n",
    "\n",
    "axes[1].scatter(X, X)\n",
    "axes[1].set_xlabel(\"Sesudah\")"
   ]
  },
  {
   "cell_type": "code",
   "execution_count": 99,
   "id": "ffde1abd",
   "metadata": {
    "execution": {
     "iopub.execute_input": "2022-12-04T10:35:14.177062Z",
     "iopub.status.busy": "2022-12-04T10:35:14.176737Z",
     "iopub.status.idle": "2022-12-04T10:35:20.799593Z",
     "shell.execute_reply": "2022-12-04T10:35:20.798572Z",
     "shell.execute_reply.started": "2022-12-04T10:35:14.177032Z"
    }
   },
   "outputs": [
    {
     "data": {
      "text/plain": [
       "Text(0.5, 0, 'Sesudah')"
      ]
     },
     "execution_count": 99,
     "metadata": {},
     "output_type": "execute_result"
    },
    {
     "data": {
      "image/png": "[encoded data removed]",
      "text/plain": [
       "<Figure size 936x432 with 2 Axes>"
      ]
     },
     "metadata": {
      "needs_background": "light"
     },
     "output_type": "display_data"
    }
   ],
   "source": [
    "\n",
    "X=df_train['NumberOfTime60-89DaysPastDueNotWorse']\n",
    "\n",
    "\n",
    "fig, axes = plt.subplots(1, 2, figsize=(13, 6))\n",
    "axes[0].scatter(X, X)\n",
    "axes[0].set_xlabel(\"Sebelum\")\n",
    "\n",
    "df=remove_outliers(df_train, \"NumberOfTime60-89DaysPastDueNotWorse\", 3)\n",
    "X=df_train['NumberOfTime60-89DaysPastDueNotWorse']\n",
    "\n",
    "axes[1].scatter(X, X)\n",
    "axes[1].set_xlabel(\"Sesudah\")"
   ]
  },
  {
   "cell_type": "code",
   "execution_count": 100,
   "id": "949b7d0c",
   "metadata": {
    "execution": {
     "iopub.execute_input": "2022-12-04T10:35:20.801478Z",
     "iopub.status.busy": "2022-12-04T10:35:20.801051Z",
     "iopub.status.idle": "2022-12-04T10:35:26.819867Z",
     "shell.execute_reply": "2022-12-04T10:35:26.818535Z",
     "shell.execute_reply.started": "2022-12-04T10:35:20.801434Z"
    }
   },
   "outputs": [
    {
     "data": {
      "text/plain": [
       "Text(0.5, 0, 'Sesudah')"
      ]
     },
     "execution_count": 100,
     "metadata": {},
     "output_type": "execute_result"
    },
    {
     "data": {
      "image/png": "[encoded data removed]",
      "text/plain": [
       "<Figure size 936x432 with 2 Axes>"
      ]
     },
     "metadata": {
      "needs_background": "light"
     },
     "output_type": "display_data"
    }
   ],
   "source": [
    "\n",
    "X=df_train['NumberOfTime30-59DaysPastDueNotWorse']\n",
    "fig, axes = plt.subplots(1, 2, figsize=(13, 6))\n",
    "axes[0].scatter(X, X)\n",
    "axes[0].set_xlabel(\"Sebelum\")\n",
    "\n",
    "df=remove_outliers(df_train, \"NumberOfTime30-59DaysPastDueNotWorse\", 3)\n",
    "X=df_train[\"NumberOfTime30-59DaysPastDueNotWorse\"]\n",
    "\n",
    "axes[1].scatter(X, X)\n",
    "axes[1].set_xlabel(\"Sesudah\")"
   ]
  },
  {
   "cell_type": "markdown",
   "id": "8ccd15fe",
   "metadata": {},
   "source": [
    "# Hasil Outlier bisa lebih Baik"
   ]
  },
  {
   "cell_type": "code",
   "execution_count": 22,
   "id": "94ad9a4c",
   "metadata": {
    "execution": {
     "iopub.execute_input": "2022-12-04T10:35:26.822039Z",
     "iopub.status.busy": "2022-12-04T10:35:26.821231Z",
     "iopub.status.idle": "2022-12-04T10:35:28.817935Z",
     "shell.execute_reply": "2022-12-04T10:35:28.816817Z",
     "shell.execute_reply.started": "2022-12-04T10:35:26.822001Z"
    }
   },
   "outputs": [
    {
     "name": "stderr",
     "output_type": "stream",
     "text": [
      "C:\\Users\\User\\anaconda3\\lib\\site-packages\\seaborn\\distributions.py:2619: FutureWarning: `distplot` is a deprecated function and will be removed in a future version. Please adapt your code to use either `displot` (a figure-level function with similar flexibility) or `histplot` (an axes-level function for histograms).\n",
      "  warnings.warn(msg, FutureWarning)\n",
      "C:\\Users\\User\\anaconda3\\lib\\site-packages\\seaborn\\distributions.py:2619: FutureWarning: `distplot` is a deprecated function and will be removed in a future version. Please adapt your code to use either `displot` (a figure-level function with similar flexibility) or `histplot` (an axes-level function for histograms).\n",
      "  warnings.warn(msg, FutureWarning)\n"
     ]
    },
    {
     "data": {
      "text/plain": [
       "<AxesSubplot:xlabel='MonthlyIncome', ylabel='Density'>"
      ]
     },
     "execution_count": 22,
     "metadata": {},
     "output_type": "execute_result"
    },
    {
     "data": {
      "image/png": "[encoded data removed]",
      "text/plain": [
       "<Figure size 1296x432 with 2 Axes>"
      ]
     },
     "metadata": {
      "needs_background": "light"
     },
     "output_type": "display_data"
    }
   ],
   "source": [
    "fig, ax = plt.subplots(figsize=(18, 6), ncols=2)\n",
    "sns.distplot(df_train[\"NumberOfDependents\"], ax=ax[0])\n",
    "sns.distplot(df_train[\"MonthlyIncome\"], ax=ax[1])"
   ]
  },
  {
   "cell_type": "markdown",
   "id": "e8895f91",
   "metadata": {},
   "source": [
    "Mencari Kemiringan Data berdasarkan Mean,Median Modus"
   ]
  },
  {
   "cell_type": "code",
   "execution_count": 23,
   "id": "4f832389",
   "metadata": {
    "execution": {
     "iopub.execute_input": "2022-12-04T10:35:28.819867Z",
     "iopub.status.busy": "2022-12-04T10:35:28.819541Z",
     "iopub.status.idle": "2022-12-04T10:35:28.833402Z",
     "shell.execute_reply": "2022-12-04T10:35:28.832231Z",
     "shell.execute_reply.started": "2022-12-04T10:35:28.819836Z"
    }
   },
   "outputs": [
    {
     "name": "stdout",
     "output_type": "stream",
     "text": [
      "Data Training\n",
      "Number Of Dependents\n",
      "Mean NOD: 0.7572222678605657\n",
      "Median NOD: 0.0\n",
      "Mod Mean NOD: 0.0\n"
     ]
    }
   ],
   "source": [
    "number_of_dependents_train = df_train[\"NumberOfDependents\"]\n",
    "number_of_dependents_train_mean = number_of_dependents_train.mean()\n",
    "number_of_dependents_train_median = number_of_dependents_train.median()\n",
    "number_of_dependents_train_mode = number_of_dependents_train.mode().mean()\n",
    "print(\"Data Training\")\n",
    "print(\"Number Of Dependents\")\n",
    "print(\"Mean NOD:\", number_of_dependents_train_mean)\n",
    "print(\"Median NOD:\", number_of_dependents_train_median)\n",
    "print(\"Mod Mean NOD:\", number_of_dependents_train_mode)"
   ]
  },
  {
   "cell_type": "code",
   "execution_count": 24,
   "id": "50a6e037",
   "metadata": {
    "execution": {
     "iopub.execute_input": "2022-12-04T10:35:28.840304Z",
     "iopub.status.busy": "2022-12-04T10:35:28.839964Z",
     "iopub.status.idle": "2022-12-04T10:35:28.857359Z",
     "shell.execute_reply": "2022-12-04T10:35:28.856280Z",
     "shell.execute_reply.started": "2022-12-04T10:35:28.840274Z"
    }
   },
   "outputs": [
    {
     "name": "stdout",
     "output_type": "stream",
     "text": [
      "Monthly Income\n",
      "Mean MI: 6670.221237392844\n",
      "Median MI: 5400.0\n",
      "Mod Mean MI: 5000.0\n"
     ]
    }
   ],
   "source": [
    "monthly_income_train = df_train[\"MonthlyIncome\"]\n",
    "monthly_income_train_mean = monthly_income_train.mean()\n",
    "monthly_income_train_median = monthly_income_train.median()\n",
    "monthly_income_train_mode = monthly_income_train.mode().mean()\n",
    "\n",
    "print(\"Monthly Income\")\n",
    "print(\"Mean MI:\", monthly_income_train_mean)\n",
    "print(\"Median MI:\", monthly_income_train_median)\n",
    "print(\"Mod Mean MI:\", monthly_income_train_mode)\n",
    "\n"
   ]
  },
  {
   "cell_type": "code",
   "execution_count": 25,
   "id": "f2fe5c8d",
   "metadata": {
    "execution": {
     "iopub.execute_input": "2022-12-04T10:35:28.859660Z",
     "iopub.status.busy": "2022-12-04T10:35:28.859215Z",
     "iopub.status.idle": "2022-12-04T10:35:28.872887Z",
     "shell.execute_reply": "2022-12-04T10:35:28.871561Z",
     "shell.execute_reply.started": "2022-12-04T10:35:28.859624Z"
    }
   },
   "outputs": [
    {
     "name": "stdout",
     "output_type": "stream",
     "text": [
      "Data Testing\n",
      "Number Of Dependents\n",
      "Mean NOD: 0.7690463909705998\n",
      "Median NOD: 0.0\n",
      "Mod Mean NOD: 0.0\n",
      "\n"
     ]
    }
   ],
   "source": [
    "# Data Testing\n",
    "number_of_dependents_test = df_test[\"NumberOfDependents\"]\n",
    "number_of_dependents_test_mean = number_of_dependents_test.mean()\n",
    "number_of_dependents_test_median = number_of_dependents_test.median()\n",
    "number_of_dependents_test_mode = number_of_dependents_test.mode().mean()\n",
    "\n",
    "\n",
    "print(\"Data Testing\")\n",
    "print(\"Number Of Dependents\")\n",
    "print(\"Mean NOD:\", number_of_dependents_test_mean)\n",
    "print(\"Median NOD:\", number_of_dependents_test_median)\n",
    "print(\"Mod Mean NOD:\", number_of_dependents_test_mode)\n",
    "print(\"\")\n"
   ]
  },
  {
   "cell_type": "code",
   "execution_count": 26,
   "id": "210001fe",
   "metadata": {
    "execution": {
     "iopub.execute_input": "2022-12-04T10:35:28.874590Z",
     "iopub.status.busy": "2022-12-04T10:35:28.874236Z",
     "iopub.status.idle": "2022-12-04T10:35:28.890041Z",
     "shell.execute_reply": "2022-12-04T10:35:28.888925Z",
     "shell.execute_reply.started": "2022-12-04T10:35:28.874557Z"
    }
   },
   "outputs": [
    {
     "name": "stdout",
     "output_type": "stream",
     "text": [
      "Monthly Income\n",
      "Mean MI: 6855.0355896805895\n",
      "Median MI: 5400.0\n",
      "Mod Mean MI: 5000.0\n"
     ]
    }
   ],
   "source": [
    "monthly_income_test =df_test[\"MonthlyIncome\"]\n",
    "monthly_income_test_mean = monthly_income_test.mean()\n",
    "monthly_income_test_median = monthly_income_test.median()\n",
    "monthly_income_test_mode = monthly_income_test.mode().mean()\n",
    "\n",
    "print(\"Monthly Income\")\n",
    "print(\"Mean MI:\", monthly_income_test_mean)\n",
    "print(\"Median MI:\", monthly_income_test_median)\n",
    "print(\"Mod Mean MI:\", monthly_income_test_mode)"
   ]
  },
  {
   "cell_type": "code",
   "execution_count": 27,
   "id": "178dc4af",
   "metadata": {
    "execution": {
     "iopub.execute_input": "2022-12-04T10:35:28.891658Z",
     "iopub.status.busy": "2022-12-04T10:35:28.891283Z",
     "iopub.status.idle": "2022-12-04T10:35:28.899601Z",
     "shell.execute_reply": "2022-12-04T10:35:28.898413Z",
     "shell.execute_reply.started": "2022-12-04T10:35:28.891624Z"
    }
   },
   "outputs": [],
   "source": [
    "#Mengisi data yang hilang dengan nilai Modus\n",
    "df_train['NumberOfDependents'].fillna(number_of_dependents_train_mode, inplace=True)\n",
    "df_train['MonthlyIncome'].fillna(monthly_income_train_mode, inplace=True)"
   ]
  },
  {
   "cell_type": "code",
   "execution_count": 28,
   "id": "aeef7b7e",
   "metadata": {
    "execution": {
     "iopub.execute_input": "2022-12-04T10:35:28.901726Z",
     "iopub.status.busy": "2022-12-04T10:35:28.901302Z",
     "iopub.status.idle": "2022-12-04T10:35:28.911748Z",
     "shell.execute_reply": "2022-12-04T10:35:28.910797Z",
     "shell.execute_reply.started": "2022-12-04T10:35:28.901694Z"
    }
   },
   "outputs": [],
   "source": [
    "df_test['NumberOfDependents'].fillna(number_of_dependents_test_mode, inplace=True)\n",
    "df_test['MonthlyIncome'].fillna(monthly_income_test_mode, inplace=True)"
   ]
  },
  {
   "cell_type": "code",
   "execution_count": 29,
   "id": "10e3ab48",
   "metadata": {
    "execution": {
     "iopub.execute_input": "2022-12-04T10:35:28.914128Z",
     "iopub.status.busy": "2022-12-04T10:35:28.913289Z",
     "iopub.status.idle": "2022-12-04T10:35:28.932559Z",
     "shell.execute_reply": "2022-12-04T10:35:28.931308Z",
     "shell.execute_reply.started": "2022-12-04T10:35:28.914081Z"
    }
   },
   "outputs": [
    {
     "data": {
      "text/plain": [
       "SeriousDlqin2yrs                        0\n",
       "RevolvingUtilizationOfUnsecuredLines    0\n",
       "age                                     0\n",
       "NumberOfTime30-59DaysPastDueNotWorse    0\n",
       "DebtRatio                               0\n",
       "MonthlyIncome                           0\n",
       "NumberOfOpenCreditLinesAndLoans         0\n",
       "NumberOfTimes90DaysLate                 0\n",
       "NumberRealEstateLoansOrLines            0\n",
       "NumberOfTime60-89DaysPastDueNotWorse    0\n",
       "NumberOfDependents                      0\n",
       "dtype: int64"
      ]
     },
     "execution_count": 29,
     "metadata": {},
     "output_type": "execute_result"
    }
   ],
   "source": [
    "df_train.isnull().sum()#Mengcek Nilai yang hilang"
   ]
  },
  {
   "cell_type": "code",
   "execution_count": 30,
   "id": "2b980d5e",
   "metadata": {
    "execution": {
     "iopub.execute_input": "2022-12-04T10:35:28.934790Z",
     "iopub.status.busy": "2022-12-04T10:35:28.934218Z",
     "iopub.status.idle": "2022-12-04T10:35:28.946258Z",
     "shell.execute_reply": "2022-12-04T10:35:28.945083Z",
     "shell.execute_reply.started": "2022-12-04T10:35:28.934757Z"
    }
   },
   "outputs": [
    {
     "data": {
      "text/plain": [
       "SeriousDlqin2yrs                        101503\n",
       "RevolvingUtilizationOfUnsecuredLines         0\n",
       "age                                          0\n",
       "NumberOfTime30-59DaysPastDueNotWorse         0\n",
       "DebtRatio                                    0\n",
       "MonthlyIncome                                0\n",
       "NumberOfOpenCreditLinesAndLoans              0\n",
       "NumberOfTimes90DaysLate                      0\n",
       "NumberRealEstateLoansOrLines                 0\n",
       "NumberOfTime60-89DaysPastDueNotWorse         0\n",
       "NumberOfDependents                           0\n",
       "dtype: int64"
      ]
     },
     "execution_count": 30,
     "metadata": {},
     "output_type": "execute_result"
    }
   ],
   "source": [
    "df_test.isnull().sum()"
   ]
  },
  {
   "cell_type": "markdown",
   "id": "998f16ba",
   "metadata": {},
   "source": [
    "# Menggunakan Logistic Regression Untuk Base Model Iteration"
   ]
  },
  {
   "cell_type": "code",
   "execution_count": 39,
   "id": "df5ef129",
   "metadata": {
    "execution": {
     "iopub.execute_input": "2022-12-04T10:35:28.948588Z",
     "iopub.status.busy": "2022-12-04T10:35:28.948205Z",
     "iopub.status.idle": "2022-12-04T10:35:28.954090Z",
     "shell.execute_reply": "2022-12-04T10:35:28.953296Z",
     "shell.execute_reply.started": "2022-12-04T10:35:28.948556Z"
    }
   },
   "outputs": [],
   "source": [
    "from sklearn.linear_model import LogisticRegression\n",
    "from sklearn.metrics import classification_report\n",
    "from sklearn.metrics import roc_auc_score, precision_recall_curve, auc, f1_score, precision_score, recall_score\n",
    "from sklearn.metrics import confusion_matrix \n",
    "from sklearn.linear_model import LogisticRegression\n",
    "from lightgbm import LGBMClassifier\n",
    "from sklearn.model_selection import GridSearchCV"
   ]
  },
  {
   "cell_type": "code",
   "execution_count": 40,
   "id": "9ba67c5e",
   "metadata": {
    "execution": {
     "iopub.execute_input": "2022-12-04T10:35:28.956121Z",
     "iopub.status.busy": "2022-12-04T10:35:28.955172Z",
     "iopub.status.idle": "2022-12-04T10:35:28.968236Z",
     "shell.execute_reply": "2022-12-04T10:35:28.967400Z",
     "shell.execute_reply.started": "2022-12-04T10:35:28.956086Z"
    }
   },
   "outputs": [
    {
     "name": "stdout",
     "output_type": "stream",
     "text": [
      "<class 'pandas.core.frame.DataFrame'>\n",
      "Int64Index: 150000 entries, 1 to 150000\n",
      "Data columns (total 10 columns):\n",
      " #   Column                                Non-Null Count   Dtype  \n",
      "---  ------                                --------------   -----  \n",
      " 0   RevolvingUtilizationOfUnsecuredLines  150000 non-null  float64\n",
      " 1   age                                   150000 non-null  int64  \n",
      " 2   NumberOfTime30-59DaysPastDueNotWorse  150000 non-null  float64\n",
      " 3   DebtRatio                             150000 non-null  float64\n",
      " 4   MonthlyIncome                         150000 non-null  float64\n",
      " 5   NumberOfOpenCreditLinesAndLoans       150000 non-null  int64  \n",
      " 6   NumberOfTimes90DaysLate               150000 non-null  float64\n",
      " 7   NumberRealEstateLoansOrLines          150000 non-null  int64  \n",
      " 8   NumberOfTime60-89DaysPastDueNotWorse  150000 non-null  float64\n",
      " 9   NumberOfDependents                    150000 non-null  float64\n",
      "dtypes: float64(7), int64(3)\n",
      "memory usage: 12.6 MB\n"
     ]
    }
   ],
   "source": [
    "\n",
    "\n",
    "x = df_train.drop(\"SeriousDlqin2yrs\", axis = 1)\n",
    "y = df_train[\"SeriousDlqin2yrs\"]\n",
    "\n",
    "x.info()\n",
    "\n"
   ]
  },
  {
   "cell_type": "code",
   "execution_count": 41,
   "id": "8c2fa82b",
   "metadata": {
    "execution": {
     "iopub.execute_input": "2022-12-04T10:35:28.970122Z",
     "iopub.status.busy": "2022-12-04T10:35:28.969452Z",
     "iopub.status.idle": "2022-12-04T10:35:29.001668Z",
     "shell.execute_reply": "2022-12-04T10:35:29.000487Z",
     "shell.execute_reply.started": "2022-12-04T10:35:28.970086Z"
    }
   },
   "outputs": [],
   "source": [
    "# from sklearn.model_selection import train_test_split #untuk membuat model\n",
    "\n",
    "# # untuk training/testing\n",
    "# x_train, x_test, y_train, y_test = train_test_split(x, y, test_size=0.3, random_state=42)"
   ]
  },
  {
   "cell_type": "code",
   "execution_count": 42,
   "id": "537fb29b",
   "metadata": {},
   "outputs": [],
   "source": [
    "from sklearn.model_selection import train_test_split #untuk membuat model\n",
    "\n",
    "# untuk training/testing\n",
    "x_train, x_test, y_train, y_test = train_test_split(x, y, test_size=0.3, random_state=42)"
   ]
  },
  {
   "cell_type": "code",
   "execution_count": 43,
   "id": "20414aca",
   "metadata": {
    "execution": {
     "iopub.execute_input": "2022-12-04T10:35:29.003333Z",
     "iopub.status.busy": "2022-12-04T10:35:29.002994Z",
     "iopub.status.idle": "2022-12-04T10:35:29.009728Z",
     "shell.execute_reply": "2022-12-04T10:35:29.008749Z",
     "shell.execute_reply.started": "2022-12-04T10:35:29.003300Z"
    }
   },
   "outputs": [
    {
     "name": "stdout",
     "output_type": "stream",
     "text": [
      "(105000, 10)\n",
      "(105000,)\n",
      "(45000, 10)\n",
      "(45000,)\n"
     ]
    }
   ],
   "source": [
    "\n",
    "\n",
    "print(x_train.shape)\n",
    "print(y_train.shape)\n",
    "print(x_test.shape)\n",
    "print(y_test.shape)\n",
    "\n"
   ]
  },
  {
   "cell_type": "code",
   "execution_count": 44,
   "id": "db77f717",
   "metadata": {
    "execution": {
     "iopub.execute_input": "2022-12-04T10:37:25.372624Z",
     "iopub.status.busy": "2022-12-04T10:37:25.372225Z",
     "iopub.status.idle": "2022-12-04T10:37:25.378022Z",
     "shell.execute_reply": "2022-12-04T10:37:25.376851Z",
     "shell.execute_reply.started": "2022-12-04T10:37:25.372588Z"
    }
   },
   "outputs": [],
   "source": [
    "parameter = {\n",
    "    'solver': ['newton-cg', 'lbfgs'],\n",
    "    'penalty': ['l2', 'elasticnet'],\n",
    "    'C': [ 1e-1, 1],\n",
    "}\n",
    "\n",
    "lr = LogisticRegression()"
   ]
  },
  {
   "cell_type": "code",
   "execution_count": 46,
   "id": "ba5ffbc1",
   "metadata": {},
   "outputs": [],
   "source": [
    "%%capture --no-display\n",
    "\n",
    "gs_lr = GridSearchCV(\n",
    "    estimator=lr,\n",
    "    param_grid=parameter,\n",
    "    cv=5,\n",
    ")\n",
    "\n",
    "lr_fit = gs_lr.fit(x_train, y_train)"
   ]
  },
  {
   "cell_type": "code",
   "execution_count": 47,
   "id": "bc8cf8bb",
   "metadata": {
    "execution": {
     "iopub.execute_input": "2022-12-04T10:37:40.725829Z",
     "iopub.status.busy": "2022-12-04T10:37:40.725412Z",
     "iopub.status.idle": "2022-12-04T10:37:40.735113Z",
     "shell.execute_reply": "2022-12-04T10:37:40.733525Z",
     "shell.execute_reply.started": "2022-12-04T10:37:40.725797Z"
    }
   },
   "outputs": [],
   "source": [
    "y_pred = lr_fit.predict(x_test)"
   ]
  },
  {
   "cell_type": "code",
   "execution_count": 48,
   "id": "5d8323cb",
   "metadata": {
    "execution": {
     "iopub.execute_input": "2022-12-04T10:37:42.444605Z",
     "iopub.status.busy": "2022-12-04T10:37:42.444198Z",
     "iopub.status.idle": "2022-12-04T10:37:42.461380Z",
     "shell.execute_reply": "2022-12-04T10:37:42.459908Z",
     "shell.execute_reply.started": "2022-12-04T10:37:42.444570Z"
    }
   },
   "outputs": [],
   "source": [
    "y_pred_proba = lr_fit.predict_proba(x_test)\n",
    "y_pred_proba = y_pred_proba[: , 1]\n",
    "y_test_predicted = lr_fit.predict_proba(x_test)[:,1]"
   ]
  },
  {
   "cell_type": "code",
   "execution_count": 76,
   "id": "1cd50849",
   "metadata": {},
   "outputs": [],
   "source": [
    "from lightgbm import LGBMClassifier\n",
    "\n",
    "parameters = {\n",
    "    'n_estimators': [100, 250],\n",
    "    'max_depth': [8, 24],\n",
    "    'num_leaves': [25, 50],\n",
    "    'first_metric_only': [True]\n",
    "}\n",
    "\n",
    "\n",
    "lgb = LGBMClassifier()"
   ]
  },
  {
   "cell_type": "code",
   "execution_count": 77,
   "id": "1464247f",
   "metadata": {},
   "outputs": [],
   "source": [
    "from sklearn.model_selection import GridSearchCV\n",
    "gs = GridSearchCV(\n",
    "    estimator=lgb,\n",
    "    param_grid=parameter,\n",
    "    cv=5,\n",
    ")\n",
    "lgbm_fit = gs.fit(x_train, y_train)"
   ]
  },
  {
   "cell_type": "code",
   "execution_count": 78,
   "id": "4f555dcb",
   "metadata": {},
   "outputs": [
    {
     "name": "stdout",
     "output_type": "stream",
     "text": [
      "{'first_metric_only': True, 'max_depth': 24, 'n_estimators': 100, 'num_leaves': 25}\n",
      "0.9368000000000001\n"
     ]
    }
   ],
   "source": [
    "print(lgbm_fit.best_params_)\n",
    "print(lgbm_fit.best_score_)"
   ]
  },
  {
   "cell_type": "code",
   "execution_count": 79,
   "id": "1a66dd73",
   "metadata": {},
   "outputs": [
    {
     "name": "stdout",
     "output_type": "stream",
     "text": [
      "training accuracy: 94.11\n",
      "validation accuracy: 93.72\n"
     ]
    }
   ],
   "source": [
    "print(\"training accuracy: {:.2f}\".format(gs.score(x_train, y_train) * 100))\n",
    "print(\"validation accuracy: {:.2f}\".format(gs.score(x_test, y_test) * 100))"
   ]
  },
  {
   "cell_type": "markdown",
   "id": "51f7a0ee",
   "metadata": {},
   "source": [
    "# Result Comparison"
   ]
  },
  {
   "cell_type": "code",
   "execution_count": 80,
   "id": "504650de",
   "metadata": {
    "execution": {
     "iopub.execute_input": "2022-12-04T10:37:44.147882Z",
     "iopub.status.busy": "2022-12-04T10:37:44.147508Z",
     "iopub.status.idle": "2022-12-04T10:37:44.399307Z",
     "shell.execute_reply": "2022-12-04T10:37:44.398168Z",
     "shell.execute_reply.started": "2022-12-04T10:37:44.147841Z"
    }
   },
   "outputs": [
    {
     "data": {
      "image/png": "[encoded data removed]",
      "text/plain": [
       "<Figure size 576x432 with 2 Axes>"
      ]
     },
     "metadata": {
      "needs_background": "light"
     },
     "output_type": "display_data"
    }
   ],
   "source": [
    "#confusion matrix\n",
    "#melihat hasil confusion matrix Logistic Regression\n",
    "cm = confusion_matrix(y_test, y_pred)\n",
    "plt.figure(figsize=(8,6))\n",
    "sns.heatmap(cm, annot=True, fmt=\".2f\", linewidths=.5, square =True, cmap = 'Blues_r');\n",
    "plt.ylabel('Actual label')\n",
    "plt.xlabel('Predicted label')\n",
    "all_sample_title = 'Confusion Matrix'\n",
    "plt.title(all_sample_title, size = 15)\n",
    "plt.show()"
   ]
  },
  {
   "cell_type": "code",
   "execution_count": 81,
   "id": "ba6298f5",
   "metadata": {
    "execution": {
     "iopub.execute_input": "2022-12-04T10:37:50.452949Z",
     "iopub.status.busy": "2022-12-04T10:37:50.452566Z",
     "iopub.status.idle": "2022-12-04T10:37:50.537065Z",
     "shell.execute_reply": "2022-12-04T10:37:50.535882Z",
     "shell.execute_reply.started": "2022-12-04T10:37:50.452915Z"
    }
   },
   "outputs": [
    {
     "name": "stdout",
     "output_type": "stream",
     "text": [
      "              precision    recall  f1-score   support\n",
      "\n",
      "           0       0.94      0.99      0.97     42020\n",
      "           1       0.61      0.15      0.24      2980\n",
      "\n",
      "    accuracy                           0.94     45000\n",
      "   macro avg       0.78      0.57      0.61     45000\n",
      "weighted avg       0.92      0.94      0.92     45000\n",
      "\n"
     ]
    }
   ],
   "source": [
    "print(classification_report(y_test, y_pred))"
   ]
  },
  {
   "cell_type": "code",
   "execution_count": 82,
   "id": "988f2e4b",
   "metadata": {
    "execution": {
     "iopub.execute_input": "2022-12-04T10:37:53.323567Z",
     "iopub.status.busy": "2022-12-04T10:37:53.322738Z",
     "iopub.status.idle": "2022-12-04T10:37:53.346360Z",
     "shell.execute_reply": "2022-12-04T10:37:53.345290Z",
     "shell.execute_reply.started": "2022-12-04T10:37:53.323531Z"
    }
   },
   "outputs": [
    {
     "data": {
      "text/plain": [
       "0.8113492576242057"
      ]
     },
     "execution_count": 82,
     "metadata": {},
     "output_type": "execute_result"
    }
   ],
   "source": [
    "roc_auc_score(y_test, y_pred_proba)"
   ]
  },
  {
   "cell_type": "code",
   "execution_count": 83,
   "id": "1299d63f",
   "metadata": {},
   "outputs": [],
   "source": [
    "continous_proba = lgbm_fit.best_estimator_.predict_proba(x_test)\n",
    "\n",
    "proba = continous_proba[:, 1]\n",
    "proba[proba >= 0.5] = 1\n",
    "proba[proba < 0.5] = 0\n",
    "proba = proba.astype(int)"
   ]
  },
  {
   "cell_type": "code",
   "execution_count": 84,
   "id": "ef8394fa",
   "metadata": {},
   "outputs": [
    {
     "data": {
      "image/png": "[encoded data removed]",
      "text/plain": [
       "<Figure size 864x432 with 2 Axes>"
      ]
     },
     "metadata": {
      "needs_background": "light"
     },
     "output_type": "display_data"
    }
   ],
   "source": [
    "# Confusion Matrix LightBGM\n",
    "matrix = confusion_matrix(y_test, proba) \n",
    "\n",
    "plt.figure(figsize=(12, 6))\n",
    "\n",
    "sns.heatmap(matrix, annot=True, fmt=\".2f\", square=True, cmap=\"PuBuGn_r\")\n",
    "plt.show()"
   ]
  },
  {
   "cell_type": "code",
   "execution_count": 85,
   "id": "5300bb22",
   "metadata": {},
   "outputs": [
    {
     "name": "stdout",
     "output_type": "stream",
     "text": [
      "              precision    recall  f1-score   support\n",
      "\n",
      "           0       0.95      0.99      0.97     42020\n",
      "           1       0.58      0.19      0.29      2980\n",
      "\n",
      "    accuracy                           0.94     45000\n",
      "   macro avg       0.76      0.59      0.63     45000\n",
      "weighted avg       0.92      0.94      0.92     45000\n",
      "\n"
     ]
    }
   ],
   "source": [
    "print(classification_report(y_test, proba))"
   ]
  },
  {
   "cell_type": "code",
   "execution_count": 86,
   "id": "879f955d",
   "metadata": {},
   "outputs": [
    {
     "data": {
      "text/plain": [
       "0.591011231468556"
      ]
     },
     "execution_count": 86,
     "metadata": {},
     "output_type": "execute_result"
    }
   ],
   "source": [
    "from sklearn.metrics import roc_auc_score\n",
    "\n",
    "roc_auc_score(y_test, proba)"
   ]
  },
  {
   "cell_type": "code",
   "execution_count": 87,
   "id": "d8d7dbf3",
   "metadata": {
    "execution": {
     "iopub.execute_input": "2022-12-04T10:37:57.535942Z",
     "iopub.status.busy": "2022-12-04T10:37:57.534939Z",
     "iopub.status.idle": "2022-12-04T10:37:57.546867Z",
     "shell.execute_reply": "2022-12-04T10:37:57.545562Z",
     "shell.execute_reply.started": "2022-12-04T10:37:57.535897Z"
    }
   },
   "outputs": [
    {
     "data": {
      "text/html": [
       "<div>\n",
       "<style scoped>\n",
       "    .dataframe tbody tr th:only-of-type {\n",
       "        vertical-align: middle;\n",
       "    }\n",
       "\n",
       "    .dataframe tbody tr th {\n",
       "        vertical-align: top;\n",
       "    }\n",
       "\n",
       "    .dataframe thead th {\n",
       "        text-align: right;\n",
       "    }\n",
       "</style>\n",
       "<table border=\"1\" class=\"dataframe\">\n",
       "  <thead>\n",
       "    <tr style=\"text-align: right;\">\n",
       "      <th></th>\n",
       "      <th>Id</th>\n",
       "      <th>Probability</th>\n",
       "    </tr>\n",
       "  </thead>\n",
       "  <tbody>\n",
       "    <tr>\n",
       "      <th>0</th>\n",
       "      <td>1</td>\n",
       "      <td>0.080807</td>\n",
       "    </tr>\n",
       "    <tr>\n",
       "      <th>1</th>\n",
       "      <td>2</td>\n",
       "      <td>0.040719</td>\n",
       "    </tr>\n",
       "    <tr>\n",
       "      <th>2</th>\n",
       "      <td>3</td>\n",
       "      <td>0.011968</td>\n",
       "    </tr>\n",
       "    <tr>\n",
       "      <th>3</th>\n",
       "      <td>4</td>\n",
       "      <td>0.067640</td>\n",
       "    </tr>\n",
       "    <tr>\n",
       "      <th>4</th>\n",
       "      <td>5</td>\n",
       "      <td>0.108264</td>\n",
       "    </tr>\n",
       "  </tbody>\n",
       "</table>\n",
       "</div>"
      ],
      "text/plain": [
       "   Id  Probability\n",
       "0   1     0.080807\n",
       "1   2     0.040719\n",
       "2   3     0.011968\n",
       "3   4     0.067640\n",
       "4   5     0.108264"
      ]
     },
     "execution_count": 87,
     "metadata": {},
     "output_type": "execute_result"
    }
   ],
   "source": [
    "\n",
    "\n",
    "Submission.head()\n",
    "\n"
   ]
  },
  {
   "cell_type": "code",
   "execution_count": 92,
   "id": "57f21adf",
   "metadata": {
    "execution": {
     "iopub.execute_input": "2022-12-04T10:38:37.442324Z",
     "iopub.status.busy": "2022-12-04T10:38:37.441944Z",
     "iopub.status.idle": "2022-12-04T10:38:37.794137Z",
     "shell.execute_reply": "2022-12-04T10:38:37.792937Z",
     "shell.execute_reply.started": "2022-12-04T10:38:37.442292Z"
    }
   },
   "outputs": [],
   "source": [
    "#Menggunakkan Logistic Regression Saya Mendapatkan score 0.81\n",
    "x = df_test.drop(\"SeriousDlqin2yrs\", axis=1)\n",
    "y = lgbm_fit.predict_proba(x)[:, 1]\n",
    "X_train=df_train.drop(\"SeriousDlqin2yrs\", axis=1)\n",
    "\n",
    "\n",
    "predicted = pd.DataFrame({'Id': Submission['Id'], 'Probability': y})\n",
    "predicted.to_csv(\"submissions.csv\", index=False)\n",
    "\n",
    "\n",
    "\n",
    "\n"
   ]
  },
  {
   "cell_type": "code",
   "execution_count": 93,
   "id": "bad27753",
   "metadata": {
    "execution": {
     "iopub.execute_input": "2022-12-04T10:38:39.872401Z",
     "iopub.status.busy": "2022-12-04T10:38:39.871150Z",
     "iopub.status.idle": "2022-12-04T10:38:39.883679Z",
     "shell.execute_reply": "2022-12-04T10:38:39.882561Z",
     "shell.execute_reply.started": "2022-12-04T10:38:39.872348Z"
    }
   },
   "outputs": [
    {
     "data": {
      "text/html": [
       "<div>\n",
       "<style scoped>\n",
       "    .dataframe tbody tr th:only-of-type {\n",
       "        vertical-align: middle;\n",
       "    }\n",
       "\n",
       "    .dataframe tbody tr th {\n",
       "        vertical-align: top;\n",
       "    }\n",
       "\n",
       "    .dataframe thead th {\n",
       "        text-align: right;\n",
       "    }\n",
       "</style>\n",
       "<table border=\"1\" class=\"dataframe\">\n",
       "  <thead>\n",
       "    <tr style=\"text-align: right;\">\n",
       "      <th></th>\n",
       "      <th>Id</th>\n",
       "      <th>Probability</th>\n",
       "    </tr>\n",
       "  </thead>\n",
       "  <tbody>\n",
       "    <tr>\n",
       "      <th>0</th>\n",
       "      <td>1</td>\n",
       "      <td>0.075494</td>\n",
       "    </tr>\n",
       "    <tr>\n",
       "      <th>1</th>\n",
       "      <td>2</td>\n",
       "      <td>0.066593</td>\n",
       "    </tr>\n",
       "    <tr>\n",
       "      <th>2</th>\n",
       "      <td>3</td>\n",
       "      <td>0.012522</td>\n",
       "    </tr>\n",
       "    <tr>\n",
       "      <th>3</th>\n",
       "      <td>4</td>\n",
       "      <td>0.077347</td>\n",
       "    </tr>\n",
       "    <tr>\n",
       "      <th>4</th>\n",
       "      <td>5</td>\n",
       "      <td>0.096071</td>\n",
       "    </tr>\n",
       "    <tr>\n",
       "      <th>...</th>\n",
       "      <td>...</td>\n",
       "      <td>...</td>\n",
       "    </tr>\n",
       "    <tr>\n",
       "      <th>14995</th>\n",
       "      <td>14996</td>\n",
       "      <td>0.310022</td>\n",
       "    </tr>\n",
       "    <tr>\n",
       "      <th>14996</th>\n",
       "      <td>14997</td>\n",
       "      <td>0.035616</td>\n",
       "    </tr>\n",
       "    <tr>\n",
       "      <th>14997</th>\n",
       "      <td>14998</td>\n",
       "      <td>0.012706</td>\n",
       "    </tr>\n",
       "    <tr>\n",
       "      <th>14998</th>\n",
       "      <td>14999</td>\n",
       "      <td>0.131544</td>\n",
       "    </tr>\n",
       "    <tr>\n",
       "      <th>14999</th>\n",
       "      <td>15000</td>\n",
       "      <td>0.032787</td>\n",
       "    </tr>\n",
       "  </tbody>\n",
       "</table>\n",
       "<p>15000 rows × 2 columns</p>\n",
       "</div>"
      ],
      "text/plain": [
       "          Id  Probability\n",
       "0          1     0.075494\n",
       "1          2     0.066593\n",
       "2          3     0.012522\n",
       "3          4     0.077347\n",
       "4          5     0.096071\n",
       "...      ...          ...\n",
       "14995  14996     0.310022\n",
       "14996  14997     0.035616\n",
       "14997  14998     0.012706\n",
       "14998  14999     0.131544\n",
       "14999  15000     0.032787\n",
       "\n",
       "[15000 rows x 2 columns]"
      ]
     },
     "execution_count": 93,
     "metadata": {},
     "output_type": "execute_result"
    }
   ],
   "source": [
    "predicted.head(15000)\n"
   ]
  },
  {
   "cell_type": "code",
   "execution_count": null,
   "id": "9ecc08ad",
   "metadata": {},
   "outputs": [],
   "source": []
  }
 ],
 "metadata": {
  "kernelspec": {
   "display_name": "Python 3 (ipykernel)",
   "language": "python",
   "name": "python3"
  },
  "language_info": {
   "codemirror_mode": {
    "name": "ipython",
    "version": 3
   },
   "file_extension": ".py",
   "mimetype": "text/x-python",
   "name": "python",
   "nbconvert_exporter": "python",
   "pygments_lexer": "ipython3",
   "version": "3.9.12"
  }
 },
 "nbformat": 4,
 "nbformat_minor": 5
}

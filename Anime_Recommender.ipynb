{
 "cells": [
  {
   "cell_type": "code",
   "execution_count": 2,
   "metadata": {
    "id": "GAGi6hrzFLOb"
   },
   "outputs": [],
   "source": [
    "\n",
    "import pandas as pd\n",
    "import numpy as np\n",
    "import difflib\n",
    "from sklearn.feature_extraction.text import TfidfVectorizer\n",
    "from sklearn.metrics.pairwise import cosine_similarity\n",
    "import seaborn as sns\n",
    "import re"
   ]
  },
  {
   "cell_type": "markdown",
   "metadata": {
    "id": "mfIW1BYVIGfP"
   },
   "source": [
    "Data Collection and Pre-Processing"
   ]
  },
  {
   "cell_type": "code",
   "execution_count": 3,
   "metadata": {
    "id": "MOXn7CGdIGBU"
   },
   "outputs": [],
   "source": [
    "anime_data = pd.read_csv('anime.csv')"
   ]
  },
  {
   "cell_type": "code",
   "execution_count": 4,
   "metadata": {
    "colab": {
     "base_uri": "https://localhost:8080/",
     "height": 741
    },
    "id": "cha03lDAIa6l",
    "outputId": "3b8cc985-0a70-4a45-f12e-86ec051466df"
   },
   "outputs": [
    {
     "data": {
      "text/html": [
       "<div>\n",
       "<style scoped>\n",
       "    .dataframe tbody tr th:only-of-type {\n",
       "        vertical-align: middle;\n",
       "    }\n",
       "\n",
       "    .dataframe tbody tr th {\n",
       "        vertical-align: top;\n",
       "    }\n",
       "\n",
       "    .dataframe thead th {\n",
       "        text-align: right;\n",
       "    }\n",
       "</style>\n",
       "<table border=\"1\" class=\"dataframe\">\n",
       "  <thead>\n",
       "    <tr style=\"text-align: right;\">\n",
       "      <th></th>\n",
       "      <th>anime_id</th>\n",
       "      <th>name</th>\n",
       "      <th>genre</th>\n",
       "      <th>type</th>\n",
       "      <th>episodes</th>\n",
       "      <th>rating</th>\n",
       "      <th>members</th>\n",
       "    </tr>\n",
       "  </thead>\n",
       "  <tbody>\n",
       "    <tr>\n",
       "      <th>0</th>\n",
       "      <td>32281</td>\n",
       "      <td>Kimi no Na wa.</td>\n",
       "      <td>Drama, Romance, School, Supernatural</td>\n",
       "      <td>Movie</td>\n",
       "      <td>1</td>\n",
       "      <td>9.37</td>\n",
       "      <td>200630</td>\n",
       "    </tr>\n",
       "    <tr>\n",
       "      <th>1</th>\n",
       "      <td>5114</td>\n",
       "      <td>Fullmetal Alchemist: Brotherhood</td>\n",
       "      <td>Action, Adventure, Drama, Fantasy, Magic, Mili...</td>\n",
       "      <td>TV</td>\n",
       "      <td>64</td>\n",
       "      <td>9.26</td>\n",
       "      <td>793665</td>\n",
       "    </tr>\n",
       "    <tr>\n",
       "      <th>2</th>\n",
       "      <td>28977</td>\n",
       "      <td>Gintama°</td>\n",
       "      <td>Action, Comedy, Historical, Parody, Samurai, S...</td>\n",
       "      <td>TV</td>\n",
       "      <td>51</td>\n",
       "      <td>9.25</td>\n",
       "      <td>114262</td>\n",
       "    </tr>\n",
       "    <tr>\n",
       "      <th>3</th>\n",
       "      <td>9253</td>\n",
       "      <td>Steins;Gate</td>\n",
       "      <td>Sci-Fi, Thriller</td>\n",
       "      <td>TV</td>\n",
       "      <td>24</td>\n",
       "      <td>9.17</td>\n",
       "      <td>673572</td>\n",
       "    </tr>\n",
       "    <tr>\n",
       "      <th>4</th>\n",
       "      <td>9969</td>\n",
       "      <td>Gintama&amp;#039;</td>\n",
       "      <td>Action, Comedy, Historical, Parody, Samurai, S...</td>\n",
       "      <td>TV</td>\n",
       "      <td>51</td>\n",
       "      <td>9.16</td>\n",
       "      <td>151266</td>\n",
       "    </tr>\n",
       "    <tr>\n",
       "      <th>...</th>\n",
       "      <td>...</td>\n",
       "      <td>...</td>\n",
       "      <td>...</td>\n",
       "      <td>...</td>\n",
       "      <td>...</td>\n",
       "      <td>...</td>\n",
       "      <td>...</td>\n",
       "    </tr>\n",
       "    <tr>\n",
       "      <th>12288</th>\n",
       "      <td>9316</td>\n",
       "      <td>Toushindai My Lover: Minami tai Mecha-Minami</td>\n",
       "      <td>Hentai</td>\n",
       "      <td>OVA</td>\n",
       "      <td>1</td>\n",
       "      <td>4.15</td>\n",
       "      <td>211</td>\n",
       "    </tr>\n",
       "    <tr>\n",
       "      <th>12289</th>\n",
       "      <td>5543</td>\n",
       "      <td>Under World</td>\n",
       "      <td>Hentai</td>\n",
       "      <td>OVA</td>\n",
       "      <td>1</td>\n",
       "      <td>4.28</td>\n",
       "      <td>183</td>\n",
       "    </tr>\n",
       "    <tr>\n",
       "      <th>12290</th>\n",
       "      <td>5621</td>\n",
       "      <td>Violence Gekiga David no Hoshi</td>\n",
       "      <td>Hentai</td>\n",
       "      <td>OVA</td>\n",
       "      <td>4</td>\n",
       "      <td>4.88</td>\n",
       "      <td>219</td>\n",
       "    </tr>\n",
       "    <tr>\n",
       "      <th>12291</th>\n",
       "      <td>6133</td>\n",
       "      <td>Violence Gekiga Shin David no Hoshi: Inma Dens...</td>\n",
       "      <td>Hentai</td>\n",
       "      <td>OVA</td>\n",
       "      <td>1</td>\n",
       "      <td>4.98</td>\n",
       "      <td>175</td>\n",
       "    </tr>\n",
       "    <tr>\n",
       "      <th>12292</th>\n",
       "      <td>26081</td>\n",
       "      <td>Yasuji no Pornorama: Yacchimae!!</td>\n",
       "      <td>Hentai</td>\n",
       "      <td>Movie</td>\n",
       "      <td>1</td>\n",
       "      <td>5.46</td>\n",
       "      <td>142</td>\n",
       "    </tr>\n",
       "  </tbody>\n",
       "</table>\n",
       "<p>12293 rows × 7 columns</p>\n",
       "</div>"
      ],
      "text/plain": [
       "       anime_id                                               name  \\\n",
       "0         32281                                     Kimi no Na wa.   \n",
       "1          5114                   Fullmetal Alchemist: Brotherhood   \n",
       "2         28977                                           Gintama°   \n",
       "3          9253                                        Steins;Gate   \n",
       "4          9969                                      Gintama&#039;   \n",
       "...         ...                                                ...   \n",
       "12288      9316       Toushindai My Lover: Minami tai Mecha-Minami   \n",
       "12289      5543                                        Under World   \n",
       "12290      5621                     Violence Gekiga David no Hoshi   \n",
       "12291      6133  Violence Gekiga Shin David no Hoshi: Inma Dens...   \n",
       "12292     26081                   Yasuji no Pornorama: Yacchimae!!   \n",
       "\n",
       "                                                   genre   type episodes  \\\n",
       "0                   Drama, Romance, School, Supernatural  Movie        1   \n",
       "1      Action, Adventure, Drama, Fantasy, Magic, Mili...     TV       64   \n",
       "2      Action, Comedy, Historical, Parody, Samurai, S...     TV       51   \n",
       "3                                       Sci-Fi, Thriller     TV       24   \n",
       "4      Action, Comedy, Historical, Parody, Samurai, S...     TV       51   \n",
       "...                                                  ...    ...      ...   \n",
       "12288                                             Hentai    OVA        1   \n",
       "12289                                             Hentai    OVA        1   \n",
       "12290                                             Hentai    OVA        4   \n",
       "12291                                             Hentai    OVA        1   \n",
       "12292                                             Hentai  Movie        1   \n",
       "\n",
       "       rating  members  \n",
       "0        9.37   200630  \n",
       "1        9.26   793665  \n",
       "2        9.25   114262  \n",
       "3        9.17   673572  \n",
       "4        9.16   151266  \n",
       "...       ...      ...  \n",
       "12288    4.15      211  \n",
       "12289    4.28      183  \n",
       "12290    4.88      219  \n",
       "12291    4.98      175  \n",
       "12292    5.46      142  \n",
       "\n",
       "[12293 rows x 7 columns]"
      ]
     },
     "execution_count": 4,
     "metadata": {},
     "output_type": "execute_result"
    }
   ],
   "source": [
    "anime_data"
   ]
  },
  {
   "cell_type": "code",
   "execution_count": 5,
   "metadata": {},
   "outputs": [
    {
     "data": {
      "text/html": [
       "<div>\n",
       "<style scoped>\n",
       "    .dataframe tbody tr th:only-of-type {\n",
       "        vertical-align: middle;\n",
       "    }\n",
       "\n",
       "    .dataframe tbody tr th {\n",
       "        vertical-align: top;\n",
       "    }\n",
       "\n",
       "    .dataframe thead th {\n",
       "        text-align: right;\n",
       "    }\n",
       "</style>\n",
       "<table border=\"1\" class=\"dataframe\">\n",
       "  <thead>\n",
       "    <tr style=\"text-align: right;\">\n",
       "      <th></th>\n",
       "      <th>anime_id</th>\n",
       "      <th>name</th>\n",
       "      <th>genre</th>\n",
       "      <th>type</th>\n",
       "      <th>episodes</th>\n",
       "      <th>rating</th>\n",
       "      <th>members</th>\n",
       "    </tr>\n",
       "  </thead>\n",
       "  <tbody>\n",
       "    <tr>\n",
       "      <th>1</th>\n",
       "      <td>32281</td>\n",
       "      <td>Kimi no Na wa.</td>\n",
       "      <td>Drama, Romance, School, Supernatural</td>\n",
       "      <td>Movie</td>\n",
       "      <td>1</td>\n",
       "      <td>9.37</td>\n",
       "      <td>200630</td>\n",
       "    </tr>\n",
       "    <tr>\n",
       "      <th>2</th>\n",
       "      <td>5114</td>\n",
       "      <td>Fullmetal Alchemist: Brotherhood</td>\n",
       "      <td>Action, Adventure, Drama, Fantasy, Magic, Mili...</td>\n",
       "      <td>TV</td>\n",
       "      <td>64</td>\n",
       "      <td>9.26</td>\n",
       "      <td>793665</td>\n",
       "    </tr>\n",
       "    <tr>\n",
       "      <th>3</th>\n",
       "      <td>28977</td>\n",
       "      <td>Gintama°</td>\n",
       "      <td>Action, Comedy, Historical, Parody, Samurai, S...</td>\n",
       "      <td>TV</td>\n",
       "      <td>51</td>\n",
       "      <td>9.25</td>\n",
       "      <td>114262</td>\n",
       "    </tr>\n",
       "    <tr>\n",
       "      <th>4</th>\n",
       "      <td>9253</td>\n",
       "      <td>Steins;Gate</td>\n",
       "      <td>Sci-Fi, Thriller</td>\n",
       "      <td>TV</td>\n",
       "      <td>24</td>\n",
       "      <td>9.17</td>\n",
       "      <td>673572</td>\n",
       "    </tr>\n",
       "    <tr>\n",
       "      <th>5</th>\n",
       "      <td>9969</td>\n",
       "      <td>Gintama&amp;#039;</td>\n",
       "      <td>Action, Comedy, Historical, Parody, Samurai, S...</td>\n",
       "      <td>TV</td>\n",
       "      <td>51</td>\n",
       "      <td>9.16</td>\n",
       "      <td>151266</td>\n",
       "    </tr>\n",
       "    <tr>\n",
       "      <th>...</th>\n",
       "      <td>...</td>\n",
       "      <td>...</td>\n",
       "      <td>...</td>\n",
       "      <td>...</td>\n",
       "      <td>...</td>\n",
       "      <td>...</td>\n",
       "      <td>...</td>\n",
       "    </tr>\n",
       "    <tr>\n",
       "      <th>12289</th>\n",
       "      <td>9316</td>\n",
       "      <td>Toushindai My Lover: Minami tai Mecha-Minami</td>\n",
       "      <td>Hentai</td>\n",
       "      <td>OVA</td>\n",
       "      <td>1</td>\n",
       "      <td>4.15</td>\n",
       "      <td>211</td>\n",
       "    </tr>\n",
       "    <tr>\n",
       "      <th>12290</th>\n",
       "      <td>5543</td>\n",
       "      <td>Under World</td>\n",
       "      <td>Hentai</td>\n",
       "      <td>OVA</td>\n",
       "      <td>1</td>\n",
       "      <td>4.28</td>\n",
       "      <td>183</td>\n",
       "    </tr>\n",
       "    <tr>\n",
       "      <th>12291</th>\n",
       "      <td>5621</td>\n",
       "      <td>Violence Gekiga David no Hoshi</td>\n",
       "      <td>Hentai</td>\n",
       "      <td>OVA</td>\n",
       "      <td>4</td>\n",
       "      <td>4.88</td>\n",
       "      <td>219</td>\n",
       "    </tr>\n",
       "    <tr>\n",
       "      <th>12292</th>\n",
       "      <td>6133</td>\n",
       "      <td>Violence Gekiga Shin David no Hoshi: Inma Dens...</td>\n",
       "      <td>Hentai</td>\n",
       "      <td>OVA</td>\n",
       "      <td>1</td>\n",
       "      <td>4.98</td>\n",
       "      <td>175</td>\n",
       "    </tr>\n",
       "    <tr>\n",
       "      <th>12293</th>\n",
       "      <td>26081</td>\n",
       "      <td>Yasuji no Pornorama: Yacchimae!!</td>\n",
       "      <td>Hentai</td>\n",
       "      <td>Movie</td>\n",
       "      <td>1</td>\n",
       "      <td>5.46</td>\n",
       "      <td>142</td>\n",
       "    </tr>\n",
       "  </tbody>\n",
       "</table>\n",
       "<p>12293 rows × 7 columns</p>\n",
       "</div>"
      ],
      "text/plain": [
       "       anime_id                                               name  \\\n",
       "1         32281                                     Kimi no Na wa.   \n",
       "2          5114                   Fullmetal Alchemist: Brotherhood   \n",
       "3         28977                                           Gintama°   \n",
       "4          9253                                        Steins;Gate   \n",
       "5          9969                                      Gintama&#039;   \n",
       "...         ...                                                ...   \n",
       "12289      9316       Toushindai My Lover: Minami tai Mecha-Minami   \n",
       "12290      5543                                        Under World   \n",
       "12291      5621                     Violence Gekiga David no Hoshi   \n",
       "12292      6133  Violence Gekiga Shin David no Hoshi: Inma Dens...   \n",
       "12293     26081                   Yasuji no Pornorama: Yacchimae!!   \n",
       "\n",
       "                                                   genre   type episodes  \\\n",
       "1                   Drama, Romance, School, Supernatural  Movie        1   \n",
       "2      Action, Adventure, Drama, Fantasy, Magic, Mili...     TV       64   \n",
       "3      Action, Comedy, Historical, Parody, Samurai, S...     TV       51   \n",
       "4                                       Sci-Fi, Thriller     TV       24   \n",
       "5      Action, Comedy, Historical, Parody, Samurai, S...     TV       51   \n",
       "...                                                  ...    ...      ...   \n",
       "12289                                             Hentai    OVA        1   \n",
       "12290                                             Hentai    OVA        1   \n",
       "12291                                             Hentai    OVA        4   \n",
       "12292                                             Hentai    OVA        1   \n",
       "12293                                             Hentai  Movie        1   \n",
       "\n",
       "       rating  members  \n",
       "1        9.37   200630  \n",
       "2        9.26   793665  \n",
       "3        9.25   114262  \n",
       "4        9.17   673572  \n",
       "5        9.16   151266  \n",
       "...       ...      ...  \n",
       "12289    4.15      211  \n",
       "12290    4.28      183  \n",
       "12291    4.88      219  \n",
       "12292    4.98      175  \n",
       "12293    5.46      142  \n",
       "\n",
       "[12293 rows x 7 columns]"
      ]
     },
     "execution_count": 5,
     "metadata": {},
     "output_type": "execute_result"
    }
   ],
   "source": [
    "\n",
    "anime_data.index = [x for x in range(1, len(anime_data.values)+1)]\n",
    "anime_data"
   ]
  },
  {
   "cell_type": "code",
   "execution_count": 6,
   "metadata": {},
   "outputs": [
    {
     "data": {
      "text/html": [
       "<div>\n",
       "<style scoped>\n",
       "    .dataframe tbody tr th:only-of-type {\n",
       "        vertical-align: middle;\n",
       "    }\n",
       "\n",
       "    .dataframe tbody tr th {\n",
       "        vertical-align: top;\n",
       "    }\n",
       "\n",
       "    .dataframe thead th {\n",
       "        text-align: right;\n",
       "    }\n",
       "</style>\n",
       "<table border=\"1\" class=\"dataframe\">\n",
       "  <thead>\n",
       "    <tr style=\"text-align: right;\">\n",
       "      <th></th>\n",
       "      <th>anime_id</th>\n",
       "      <th>name</th>\n",
       "      <th>genre</th>\n",
       "      <th>type</th>\n",
       "      <th>episodes</th>\n",
       "      <th>rating</th>\n",
       "      <th>members</th>\n",
       "    </tr>\n",
       "    <tr>\n",
       "      <th>index</th>\n",
       "      <th></th>\n",
       "      <th></th>\n",
       "      <th></th>\n",
       "      <th></th>\n",
       "      <th></th>\n",
       "      <th></th>\n",
       "      <th></th>\n",
       "    </tr>\n",
       "  </thead>\n",
       "  <tbody>\n",
       "    <tr>\n",
       "      <th>1</th>\n",
       "      <td>32281</td>\n",
       "      <td>Kimi no Na wa.</td>\n",
       "      <td>Drama, Romance, School, Supernatural</td>\n",
       "      <td>Movie</td>\n",
       "      <td>1</td>\n",
       "      <td>9.37</td>\n",
       "      <td>200630</td>\n",
       "    </tr>\n",
       "    <tr>\n",
       "      <th>2</th>\n",
       "      <td>5114</td>\n",
       "      <td>Fullmetal Alchemist: Brotherhood</td>\n",
       "      <td>Action, Adventure, Drama, Fantasy, Magic, Mili...</td>\n",
       "      <td>TV</td>\n",
       "      <td>64</td>\n",
       "      <td>9.26</td>\n",
       "      <td>793665</td>\n",
       "    </tr>\n",
       "    <tr>\n",
       "      <th>3</th>\n",
       "      <td>28977</td>\n",
       "      <td>Gintama°</td>\n",
       "      <td>Action, Comedy, Historical, Parody, Samurai, S...</td>\n",
       "      <td>TV</td>\n",
       "      <td>51</td>\n",
       "      <td>9.25</td>\n",
       "      <td>114262</td>\n",
       "    </tr>\n",
       "    <tr>\n",
       "      <th>4</th>\n",
       "      <td>9253</td>\n",
       "      <td>Steins;Gate</td>\n",
       "      <td>Sci-Fi, Thriller</td>\n",
       "      <td>TV</td>\n",
       "      <td>24</td>\n",
       "      <td>9.17</td>\n",
       "      <td>673572</td>\n",
       "    </tr>\n",
       "    <tr>\n",
       "      <th>5</th>\n",
       "      <td>9969</td>\n",
       "      <td>Gintama&amp;#039;</td>\n",
       "      <td>Action, Comedy, Historical, Parody, Samurai, S...</td>\n",
       "      <td>TV</td>\n",
       "      <td>51</td>\n",
       "      <td>9.16</td>\n",
       "      <td>151266</td>\n",
       "    </tr>\n",
       "    <tr>\n",
       "      <th>...</th>\n",
       "      <td>...</td>\n",
       "      <td>...</td>\n",
       "      <td>...</td>\n",
       "      <td>...</td>\n",
       "      <td>...</td>\n",
       "      <td>...</td>\n",
       "      <td>...</td>\n",
       "    </tr>\n",
       "    <tr>\n",
       "      <th>12289</th>\n",
       "      <td>9316</td>\n",
       "      <td>Toushindai My Lover: Minami tai Mecha-Minami</td>\n",
       "      <td>Hentai</td>\n",
       "      <td>OVA</td>\n",
       "      <td>1</td>\n",
       "      <td>4.15</td>\n",
       "      <td>211</td>\n",
       "    </tr>\n",
       "    <tr>\n",
       "      <th>12290</th>\n",
       "      <td>5543</td>\n",
       "      <td>Under World</td>\n",
       "      <td>Hentai</td>\n",
       "      <td>OVA</td>\n",
       "      <td>1</td>\n",
       "      <td>4.28</td>\n",
       "      <td>183</td>\n",
       "    </tr>\n",
       "    <tr>\n",
       "      <th>12291</th>\n",
       "      <td>5621</td>\n",
       "      <td>Violence Gekiga David no Hoshi</td>\n",
       "      <td>Hentai</td>\n",
       "      <td>OVA</td>\n",
       "      <td>4</td>\n",
       "      <td>4.88</td>\n",
       "      <td>219</td>\n",
       "    </tr>\n",
       "    <tr>\n",
       "      <th>12292</th>\n",
       "      <td>6133</td>\n",
       "      <td>Violence Gekiga Shin David no Hoshi: Inma Dens...</td>\n",
       "      <td>Hentai</td>\n",
       "      <td>OVA</td>\n",
       "      <td>1</td>\n",
       "      <td>4.98</td>\n",
       "      <td>175</td>\n",
       "    </tr>\n",
       "    <tr>\n",
       "      <th>12293</th>\n",
       "      <td>26081</td>\n",
       "      <td>Yasuji no Pornorama: Yacchimae!!</td>\n",
       "      <td>Hentai</td>\n",
       "      <td>Movie</td>\n",
       "      <td>1</td>\n",
       "      <td>5.46</td>\n",
       "      <td>142</td>\n",
       "    </tr>\n",
       "  </tbody>\n",
       "</table>\n",
       "<p>12293 rows × 7 columns</p>\n",
       "</div>"
      ],
      "text/plain": [
       "       anime_id                                               name  \\\n",
       "index                                                                \n",
       "1         32281                                     Kimi no Na wa.   \n",
       "2          5114                   Fullmetal Alchemist: Brotherhood   \n",
       "3         28977                                           Gintama°   \n",
       "4          9253                                        Steins;Gate   \n",
       "5          9969                                      Gintama&#039;   \n",
       "...         ...                                                ...   \n",
       "12289      9316       Toushindai My Lover: Minami tai Mecha-Minami   \n",
       "12290      5543                                        Under World   \n",
       "12291      5621                     Violence Gekiga David no Hoshi   \n",
       "12292      6133  Violence Gekiga Shin David no Hoshi: Inma Dens...   \n",
       "12293     26081                   Yasuji no Pornorama: Yacchimae!!   \n",
       "\n",
       "                                                   genre   type episodes  \\\n",
       "index                                                                      \n",
       "1                   Drama, Romance, School, Supernatural  Movie        1   \n",
       "2      Action, Adventure, Drama, Fantasy, Magic, Mili...     TV       64   \n",
       "3      Action, Comedy, Historical, Parody, Samurai, S...     TV       51   \n",
       "4                                       Sci-Fi, Thriller     TV       24   \n",
       "5      Action, Comedy, Historical, Parody, Samurai, S...     TV       51   \n",
       "...                                                  ...    ...      ...   \n",
       "12289                                             Hentai    OVA        1   \n",
       "12290                                             Hentai    OVA        1   \n",
       "12291                                             Hentai    OVA        4   \n",
       "12292                                             Hentai    OVA        1   \n",
       "12293                                             Hentai  Movie        1   \n",
       "\n",
       "       rating  members  \n",
       "index                   \n",
       "1        9.37   200630  \n",
       "2        9.26   793665  \n",
       "3        9.25   114262  \n",
       "4        9.17   673572  \n",
       "5        9.16   151266  \n",
       "...       ...      ...  \n",
       "12289    4.15      211  \n",
       "12290    4.28      183  \n",
       "12291    4.88      219  \n",
       "12292    4.98      175  \n",
       "12293    5.46      142  \n",
       "\n",
       "[12293 rows x 7 columns]"
      ]
     },
     "execution_count": 6,
     "metadata": {},
     "output_type": "execute_result"
    }
   ],
   "source": [
    "anime_data.index.name = 'index'\n",
    "anime_data"
   ]
  },
  {
   "cell_type": "code",
   "execution_count": 7,
   "metadata": {},
   "outputs": [
    {
     "data": {
      "text/html": [
       "<div>\n",
       "<style scoped>\n",
       "    .dataframe tbody tr th:only-of-type {\n",
       "        vertical-align: middle;\n",
       "    }\n",
       "\n",
       "    .dataframe tbody tr th {\n",
       "        vertical-align: top;\n",
       "    }\n",
       "\n",
       "    .dataframe thead th {\n",
       "        text-align: right;\n",
       "    }\n",
       "</style>\n",
       "<table border=\"1\" class=\"dataframe\">\n",
       "  <thead>\n",
       "    <tr style=\"text-align: right;\">\n",
       "      <th></th>\n",
       "      <th>anime_id</th>\n",
       "      <th>genre</th>\n",
       "      <th>type</th>\n",
       "      <th>episodes</th>\n",
       "      <th>rating</th>\n",
       "      <th>members</th>\n",
       "    </tr>\n",
       "    <tr>\n",
       "      <th>name</th>\n",
       "      <th></th>\n",
       "      <th></th>\n",
       "      <th></th>\n",
       "      <th></th>\n",
       "      <th></th>\n",
       "      <th></th>\n",
       "    </tr>\n",
       "  </thead>\n",
       "  <tbody>\n",
       "    <tr>\n",
       "      <th>Kimi no Na wa.</th>\n",
       "      <td>32281</td>\n",
       "      <td>Drama, Romance, School, Supernatural</td>\n",
       "      <td>Movie</td>\n",
       "      <td>1</td>\n",
       "      <td>9.37</td>\n",
       "      <td>200630</td>\n",
       "    </tr>\n",
       "    <tr>\n",
       "      <th>Fullmetal Alchemist: Brotherhood</th>\n",
       "      <td>5114</td>\n",
       "      <td>Action, Adventure, Drama, Fantasy, Magic, Mili...</td>\n",
       "      <td>TV</td>\n",
       "      <td>64</td>\n",
       "      <td>9.26</td>\n",
       "      <td>793665</td>\n",
       "    </tr>\n",
       "    <tr>\n",
       "      <th>Gintama°</th>\n",
       "      <td>28977</td>\n",
       "      <td>Action, Comedy, Historical, Parody, Samurai, S...</td>\n",
       "      <td>TV</td>\n",
       "      <td>51</td>\n",
       "      <td>9.25</td>\n",
       "      <td>114262</td>\n",
       "    </tr>\n",
       "    <tr>\n",
       "      <th>Steins;Gate</th>\n",
       "      <td>9253</td>\n",
       "      <td>Sci-Fi, Thriller</td>\n",
       "      <td>TV</td>\n",
       "      <td>24</td>\n",
       "      <td>9.17</td>\n",
       "      <td>673572</td>\n",
       "    </tr>\n",
       "    <tr>\n",
       "      <th>Gintama&amp;#039;</th>\n",
       "      <td>9969</td>\n",
       "      <td>Action, Comedy, Historical, Parody, Samurai, S...</td>\n",
       "      <td>TV</td>\n",
       "      <td>51</td>\n",
       "      <td>9.16</td>\n",
       "      <td>151266</td>\n",
       "    </tr>\n",
       "    <tr>\n",
       "      <th>...</th>\n",
       "      <td>...</td>\n",
       "      <td>...</td>\n",
       "      <td>...</td>\n",
       "      <td>...</td>\n",
       "      <td>...</td>\n",
       "      <td>...</td>\n",
       "    </tr>\n",
       "    <tr>\n",
       "      <th>Toushindai My Lover: Minami tai Mecha-Minami</th>\n",
       "      <td>9316</td>\n",
       "      <td>Hentai</td>\n",
       "      <td>OVA</td>\n",
       "      <td>1</td>\n",
       "      <td>4.15</td>\n",
       "      <td>211</td>\n",
       "    </tr>\n",
       "    <tr>\n",
       "      <th>Under World</th>\n",
       "      <td>5543</td>\n",
       "      <td>Hentai</td>\n",
       "      <td>OVA</td>\n",
       "      <td>1</td>\n",
       "      <td>4.28</td>\n",
       "      <td>183</td>\n",
       "    </tr>\n",
       "    <tr>\n",
       "      <th>Violence Gekiga David no Hoshi</th>\n",
       "      <td>5621</td>\n",
       "      <td>Hentai</td>\n",
       "      <td>OVA</td>\n",
       "      <td>4</td>\n",
       "      <td>4.88</td>\n",
       "      <td>219</td>\n",
       "    </tr>\n",
       "    <tr>\n",
       "      <th>Violence Gekiga Shin David no Hoshi: Inma Densetsu</th>\n",
       "      <td>6133</td>\n",
       "      <td>Hentai</td>\n",
       "      <td>OVA</td>\n",
       "      <td>1</td>\n",
       "      <td>4.98</td>\n",
       "      <td>175</td>\n",
       "    </tr>\n",
       "    <tr>\n",
       "      <th>Yasuji no Pornorama: Yacchimae!!</th>\n",
       "      <td>26081</td>\n",
       "      <td>Hentai</td>\n",
       "      <td>Movie</td>\n",
       "      <td>1</td>\n",
       "      <td>5.46</td>\n",
       "      <td>142</td>\n",
       "    </tr>\n",
       "  </tbody>\n",
       "</table>\n",
       "<p>12293 rows × 6 columns</p>\n",
       "</div>"
      ],
      "text/plain": [
       "                                                    anime_id  \\\n",
       "name                                                           \n",
       "Kimi no Na wa.                                         32281   \n",
       "Fullmetal Alchemist: Brotherhood                        5114   \n",
       "Gintama°                                               28977   \n",
       "Steins;Gate                                             9253   \n",
       "Gintama&#039;                                           9969   \n",
       "...                                                      ...   \n",
       "Toushindai My Lover: Minami tai Mecha-Minami            9316   \n",
       "Under World                                             5543   \n",
       "Violence Gekiga David no Hoshi                          5621   \n",
       "Violence Gekiga Shin David no Hoshi: Inma Densetsu      6133   \n",
       "Yasuji no Pornorama: Yacchimae!!                       26081   \n",
       "\n",
       "                                                                                                genre  \\\n",
       "name                                                                                                    \n",
       "Kimi no Na wa.                                                   Drama, Romance, School, Supernatural   \n",
       "Fullmetal Alchemist: Brotherhood                    Action, Adventure, Drama, Fantasy, Magic, Mili...   \n",
       "Gintama°                                            Action, Comedy, Historical, Parody, Samurai, S...   \n",
       "Steins;Gate                                                                          Sci-Fi, Thriller   \n",
       "Gintama&#039;                                       Action, Comedy, Historical, Parody, Samurai, S...   \n",
       "...                                                                                               ...   \n",
       "Toushindai My Lover: Minami tai Mecha-Minami                                                   Hentai   \n",
       "Under World                                                                                    Hentai   \n",
       "Violence Gekiga David no Hoshi                                                                 Hentai   \n",
       "Violence Gekiga Shin David no Hoshi: Inma Densetsu                                             Hentai   \n",
       "Yasuji no Pornorama: Yacchimae!!                                                               Hentai   \n",
       "\n",
       "                                                     type episodes  rating  \\\n",
       "name                                                                         \n",
       "Kimi no Na wa.                                      Movie        1    9.37   \n",
       "Fullmetal Alchemist: Brotherhood                       TV       64    9.26   \n",
       "Gintama°                                               TV       51    9.25   \n",
       "Steins;Gate                                            TV       24    9.17   \n",
       "Gintama&#039;                                          TV       51    9.16   \n",
       "...                                                   ...      ...     ...   \n",
       "Toushindai My Lover: Minami tai Mecha-Minami          OVA        1    4.15   \n",
       "Under World                                           OVA        1    4.28   \n",
       "Violence Gekiga David no Hoshi                        OVA        4    4.88   \n",
       "Violence Gekiga Shin David no Hoshi: Inma Densetsu    OVA        1    4.98   \n",
       "Yasuji no Pornorama: Yacchimae!!                    Movie        1    5.46   \n",
       "\n",
       "                                                    members  \n",
       "name                                                         \n",
       "Kimi no Na wa.                                       200630  \n",
       "Fullmetal Alchemist: Brotherhood                     793665  \n",
       "Gintama°                                             114262  \n",
       "Steins;Gate                                          673572  \n",
       "Gintama&#039;                                        151266  \n",
       "...                                                     ...  \n",
       "Toushindai My Lover: Minami tai Mecha-Minami            211  \n",
       "Under World                                             183  \n",
       "Violence Gekiga David no Hoshi                          219  \n",
       "Violence Gekiga Shin David no Hoshi: Inma Densetsu      175  \n",
       "Yasuji no Pornorama: Yacchimae!!                        142  \n",
       "\n",
       "[12293 rows x 6 columns]"
      ]
     },
     "execution_count": 7,
     "metadata": {},
     "output_type": "execute_result"
    }
   ],
   "source": [
    "anime_data.set_index('name')"
   ]
  },
  {
   "cell_type": "code",
   "execution_count": 8,
   "metadata": {},
   "outputs": [
    {
     "name": "stdout",
     "output_type": "stream",
     "text": [
      "<class 'pandas.core.frame.DataFrame'>\n",
      "Int64Index: 12293 entries, 1 to 12293\n",
      "Data columns (total 7 columns):\n",
      " #   Column    Non-Null Count  Dtype  \n",
      "---  ------    --------------  -----  \n",
      " 0   anime_id  12293 non-null  int64  \n",
      " 1   name      12293 non-null  object \n",
      " 2   genre     12231 non-null  object \n",
      " 3   type      12268 non-null  object \n",
      " 4   episodes  12293 non-null  object \n",
      " 5   rating    12063 non-null  float64\n",
      " 6   members   12293 non-null  int64  \n",
      "dtypes: float64(1), int64(2), object(4)\n",
      "memory usage: 768.3+ KB\n"
     ]
    }
   ],
   "source": [
    "anime_data.info()"
   ]
  },
  {
   "cell_type": "code",
   "execution_count": 9,
   "metadata": {},
   "outputs": [],
   "source": [
    "# for feature in selected_features:\n",
    "#   anime_data[feature] = anime_data[feature].fillna('')"
   ]
  },
  {
   "cell_type": "code",
   "execution_count": 10,
   "metadata": {},
   "outputs": [],
   "source": [
    "# anime_data = anime_data[~anime_data['Hentai'].isin(drop_list)]"
   ]
  },
  {
   "cell_type": "code",
   "execution_count": 11,
   "metadata": {},
   "outputs": [],
   "source": [
    "# patternDel = \"Hentai\"\n",
    "# filter = anime_data['genre'].str.contains(patternDel)\n",
    "\n",
    "# anime_data = anime_data.drop[~filter]"
   ]
  },
  {
   "cell_type": "code",
   "execution_count": 12,
   "metadata": {},
   "outputs": [],
   "source": [
    " # Drop anime that has the is a \"Hentai\"\n",
    "# anime_data.drop(anime_data[anime_data['genre'] == \"Hentai\"].index,axis=0,inplace=True) // uncomment this for extra culture\n",
    "\n",
    "# # Drop anime that is a Movie\n",
    "anime_data.drop(anime_data[anime_data['type'] == \"Movie\"].index,axis=0,inplace=True)\n",
    "\n",
    "# Drop anime that is an OVA\n",
    "anime_data.drop(anime_data[anime_data['type'] == \"OVA\"].index,axis=0,inplace=True)\n",
    "\n",
    "# anime_data.drop[anime_data[\"type\"].str.contains(\"Hentai\") == True]"
   ]
  },
  {
   "cell_type": "code",
   "execution_count": 13,
   "metadata": {},
   "outputs": [],
   "source": [
    "anime_data = anime_data.reset_index() "
   ]
  },
  {
   "cell_type": "code",
   "execution_count": 14,
   "metadata": {},
   "outputs": [
    {
     "data": {
      "text/html": [
       "<div>\n",
       "<style scoped>\n",
       "    .dataframe tbody tr th:only-of-type {\n",
       "        vertical-align: middle;\n",
       "    }\n",
       "\n",
       "    .dataframe tbody tr th {\n",
       "        vertical-align: top;\n",
       "    }\n",
       "\n",
       "    .dataframe thead th {\n",
       "        text-align: right;\n",
       "    }\n",
       "</style>\n",
       "<table border=\"1\" class=\"dataframe\">\n",
       "  <thead>\n",
       "    <tr style=\"text-align: right;\">\n",
       "      <th></th>\n",
       "      <th>index</th>\n",
       "      <th>anime_id</th>\n",
       "      <th>name</th>\n",
       "      <th>genre</th>\n",
       "      <th>type</th>\n",
       "      <th>episodes</th>\n",
       "      <th>rating</th>\n",
       "      <th>members</th>\n",
       "    </tr>\n",
       "  </thead>\n",
       "  <tbody>\n",
       "    <tr>\n",
       "      <th>0</th>\n",
       "      <td>2</td>\n",
       "      <td>5114</td>\n",
       "      <td>Fullmetal Alchemist: Brotherhood</td>\n",
       "      <td>Action, Adventure, Drama, Fantasy, Magic, Mili...</td>\n",
       "      <td>TV</td>\n",
       "      <td>64</td>\n",
       "      <td>9.26</td>\n",
       "      <td>793665</td>\n",
       "    </tr>\n",
       "    <tr>\n",
       "      <th>1</th>\n",
       "      <td>3</td>\n",
       "      <td>28977</td>\n",
       "      <td>Gintama°</td>\n",
       "      <td>Action, Comedy, Historical, Parody, Samurai, S...</td>\n",
       "      <td>TV</td>\n",
       "      <td>51</td>\n",
       "      <td>9.25</td>\n",
       "      <td>114262</td>\n",
       "    </tr>\n",
       "    <tr>\n",
       "      <th>2</th>\n",
       "      <td>4</td>\n",
       "      <td>9253</td>\n",
       "      <td>Steins;Gate</td>\n",
       "      <td>Sci-Fi, Thriller</td>\n",
       "      <td>TV</td>\n",
       "      <td>24</td>\n",
       "      <td>9.17</td>\n",
       "      <td>673572</td>\n",
       "    </tr>\n",
       "    <tr>\n",
       "      <th>3</th>\n",
       "      <td>5</td>\n",
       "      <td>9969</td>\n",
       "      <td>Gintama&amp;#039;</td>\n",
       "      <td>Action, Comedy, Historical, Parody, Samurai, S...</td>\n",
       "      <td>TV</td>\n",
       "      <td>51</td>\n",
       "      <td>9.16</td>\n",
       "      <td>151266</td>\n",
       "    </tr>\n",
       "    <tr>\n",
       "      <th>4</th>\n",
       "      <td>6</td>\n",
       "      <td>32935</td>\n",
       "      <td>Haikyuu!!: Karasuno Koukou VS Shiratorizawa Ga...</td>\n",
       "      <td>Comedy, Drama, School, Shounen, Sports</td>\n",
       "      <td>TV</td>\n",
       "      <td>10</td>\n",
       "      <td>9.15</td>\n",
       "      <td>93351</td>\n",
       "    </tr>\n",
       "    <tr>\n",
       "      <th>...</th>\n",
       "      <td>...</td>\n",
       "      <td>...</td>\n",
       "      <td>...</td>\n",
       "      <td>...</td>\n",
       "      <td>...</td>\n",
       "      <td>...</td>\n",
       "      <td>...</td>\n",
       "      <td>...</td>\n",
       "    </tr>\n",
       "    <tr>\n",
       "      <th>6630</th>\n",
       "      <td>12186</td>\n",
       "      <td>9851</td>\n",
       "      <td>O-parts: Oman</td>\n",
       "      <td>Action, Comedy, Hentai, Mecha</td>\n",
       "      <td>Special</td>\n",
       "      <td>1</td>\n",
       "      <td>5.31</td>\n",
       "      <td>488</td>\n",
       "    </tr>\n",
       "    <tr>\n",
       "      <th>6631</th>\n",
       "      <td>12214</td>\n",
       "      <td>30663</td>\n",
       "      <td>Docchi mo Maid</td>\n",
       "      <td>Action, Comedy, Ecchi, Yuri</td>\n",
       "      <td>ONA</td>\n",
       "      <td>1</td>\n",
       "      <td>5.15</td>\n",
       "      <td>223</td>\n",
       "    </tr>\n",
       "    <tr>\n",
       "      <th>6632</th>\n",
       "      <td>12252</td>\n",
       "      <td>34382</td>\n",
       "      <td>Citrus</td>\n",
       "      <td>Drama, Romance, School, Yuri</td>\n",
       "      <td>NaN</td>\n",
       "      <td>Unknown</td>\n",
       "      <td>NaN</td>\n",
       "      <td>2459</td>\n",
       "    </tr>\n",
       "    <tr>\n",
       "      <th>6633</th>\n",
       "      <td>12259</td>\n",
       "      <td>33654</td>\n",
       "      <td>Hitorijime My Hero</td>\n",
       "      <td>Yaoi</td>\n",
       "      <td>NaN</td>\n",
       "      <td>Unknown</td>\n",
       "      <td>NaN</td>\n",
       "      <td>1574</td>\n",
       "    </tr>\n",
       "    <tr>\n",
       "      <th>6634</th>\n",
       "      <td>12264</td>\n",
       "      <td>32195</td>\n",
       "      <td>Junjou Shoujo Et Cetera Specials</td>\n",
       "      <td>Hentai</td>\n",
       "      <td>Special</td>\n",
       "      <td>2</td>\n",
       "      <td>6.42</td>\n",
       "      <td>254</td>\n",
       "    </tr>\n",
       "  </tbody>\n",
       "</table>\n",
       "<p>6635 rows × 8 columns</p>\n",
       "</div>"
      ],
      "text/plain": [
       "      index  anime_id                                               name  \\\n",
       "0         2      5114                   Fullmetal Alchemist: Brotherhood   \n",
       "1         3     28977                                           Gintama°   \n",
       "2         4      9253                                        Steins;Gate   \n",
       "3         5      9969                                      Gintama&#039;   \n",
       "4         6     32935  Haikyuu!!: Karasuno Koukou VS Shiratorizawa Ga...   \n",
       "...     ...       ...                                                ...   \n",
       "6630  12186      9851                                      O-parts: Oman   \n",
       "6631  12214     30663                                     Docchi mo Maid   \n",
       "6632  12252     34382                                             Citrus   \n",
       "6633  12259     33654                                 Hitorijime My Hero   \n",
       "6634  12264     32195                   Junjou Shoujo Et Cetera Specials   \n",
       "\n",
       "                                                  genre     type episodes  \\\n",
       "0     Action, Adventure, Drama, Fantasy, Magic, Mili...       TV       64   \n",
       "1     Action, Comedy, Historical, Parody, Samurai, S...       TV       51   \n",
       "2                                      Sci-Fi, Thriller       TV       24   \n",
       "3     Action, Comedy, Historical, Parody, Samurai, S...       TV       51   \n",
       "4                Comedy, Drama, School, Shounen, Sports       TV       10   \n",
       "...                                                 ...      ...      ...   \n",
       "6630                      Action, Comedy, Hentai, Mecha  Special        1   \n",
       "6631                        Action, Comedy, Ecchi, Yuri      ONA        1   \n",
       "6632                       Drama, Romance, School, Yuri      NaN  Unknown   \n",
       "6633                                               Yaoi      NaN  Unknown   \n",
       "6634                                             Hentai  Special        2   \n",
       "\n",
       "      rating  members  \n",
       "0       9.26   793665  \n",
       "1       9.25   114262  \n",
       "2       9.17   673572  \n",
       "3       9.16   151266  \n",
       "4       9.15    93351  \n",
       "...      ...      ...  \n",
       "6630    5.31      488  \n",
       "6631    5.15      223  \n",
       "6632     NaN     2459  \n",
       "6633     NaN     1574  \n",
       "6634    6.42      254  \n",
       "\n",
       "[6635 rows x 8 columns]"
      ]
     },
     "execution_count": 14,
     "metadata": {},
     "output_type": "execute_result"
    }
   ],
   "source": [
    "anime_data"
   ]
  },
  {
   "cell_type": "code",
   "execution_count": 15,
   "metadata": {
    "colab": {
     "base_uri": "https://localhost:8080/"
    },
    "id": "Qrtr0oQbIjwF",
    "outputId": "c01323df-5e7f-44ab-a26c-582b1c0f5abb"
   },
   "outputs": [
    {
     "data": {
      "text/plain": [
       "(6635, 8)"
      ]
     },
     "execution_count": 15,
     "metadata": {},
     "output_type": "execute_result"
    }
   ],
   "source": [
    "anime_data.shape"
   ]
  },
  {
   "cell_type": "code",
   "execution_count": 16,
   "metadata": {
    "colab": {
     "base_uri": "https://localhost:8080/"
    },
    "id": "hunvyruUJhVq",
    "outputId": "2c7d6753-ee70-4e37-92a8-05fe7c6d4921"
   },
   "outputs": [
    {
     "name": "stdout",
     "output_type": "stream",
     "text": [
      "['name', 'genre']\n"
     ]
    }
   ],
   "source": [
    "# selecting the relevant features for recommendation\n",
    "\n",
    "selected_features = ['name','genre']\n",
    "print(selected_features)"
   ]
  },
  {
   "cell_type": "code",
   "execution_count": 17,
   "metadata": {},
   "outputs": [
    {
     "name": "stdout",
     "output_type": "stream",
     "text": [
      "<class 'pandas.core.frame.DataFrame'>\n",
      "RangeIndex: 6635 entries, 0 to 6634\n",
      "Data columns (total 8 columns):\n",
      " #   Column    Non-Null Count  Dtype  \n",
      "---  ------    --------------  -----  \n",
      " 0   index     6635 non-null   int64  \n",
      " 1   anime_id  6635 non-null   int64  \n",
      " 2   name      6635 non-null   object \n",
      " 3   genre     6616 non-null   object \n",
      " 4   type      6610 non-null   object \n",
      " 5   episodes  6635 non-null   object \n",
      " 6   rating    6482 non-null   float64\n",
      " 7   members   6635 non-null   int64  \n",
      "dtypes: float64(1), int64(3), object(4)\n",
      "memory usage: 414.8+ KB\n"
     ]
    }
   ],
   "source": [
    "anime_data.info()"
   ]
  },
  {
   "cell_type": "code",
   "execution_count": 18,
   "metadata": {
    "id": "CKIVE6OWKSYk",
    "scrolled": true
   },
   "outputs": [],
   "source": [
    "for feature in selected_features:\n",
    "  anime_data[feature] = anime_data[feature].fillna('')"
   ]
  },
  {
   "cell_type": "code",
   "execution_count": 19,
   "metadata": {},
   "outputs": [
    {
     "name": "stdout",
     "output_type": "stream",
     "text": [
      "<class 'pandas.core.frame.DataFrame'>\n",
      "RangeIndex: 6635 entries, 0 to 6634\n",
      "Data columns (total 8 columns):\n",
      " #   Column    Non-Null Count  Dtype  \n",
      "---  ------    --------------  -----  \n",
      " 0   index     6635 non-null   int64  \n",
      " 1   anime_id  6635 non-null   int64  \n",
      " 2   name      6635 non-null   object \n",
      " 3   genre     6635 non-null   object \n",
      " 4   type      6610 non-null   object \n",
      " 5   episodes  6635 non-null   object \n",
      " 6   rating    6482 non-null   float64\n",
      " 7   members   6635 non-null   int64  \n",
      "dtypes: float64(1), int64(3), object(4)\n",
      "memory usage: 414.8+ KB\n"
     ]
    }
   ],
   "source": [
    "anime_data.info()"
   ]
  },
  {
   "cell_type": "code",
   "execution_count": 20,
   "metadata": {
    "id": "-AMjrRItLCO1"
   },
   "outputs": [],
   "source": [
    "combined_features = anime_data['name']+' '+anime_data['genre']"
   ]
  },
  {
   "cell_type": "code",
   "execution_count": 21,
   "metadata": {
    "colab": {
     "base_uri": "https://localhost:8080/"
    },
    "id": "ZYjFXx3aLwTh",
    "outputId": "7639c9e1-8011-4904-d794-274558043c94",
    "scrolled": true
   },
   "outputs": [
    {
     "name": "stdout",
     "output_type": "stream",
     "text": [
      "Steins;Gate Sci-Fi, Thriller\n"
     ]
    }
   ],
   "source": [
    "print(combined_features[2])"
   ]
  },
  {
   "cell_type": "code",
   "execution_count": 22,
   "metadata": {},
   "outputs": [],
   "source": [
    "anime_data['index'] = range(0, len(anime_data))"
   ]
  },
  {
   "cell_type": "code",
   "execution_count": 23,
   "metadata": {},
   "outputs": [],
   "source": [
    "# combining all the 5 selected features\n",
    "\n",
    "# combined_features = movies_data['genres']+' '+movies_data['keywords']+' '+movies_data['tagline']+' '+movies_data['cast']+' '+movies_data['director']"
   ]
  },
  {
   "cell_type": "code",
   "execution_count": 24,
   "metadata": {
    "scrolled": true
   },
   "outputs": [
    {
     "name": "stdout",
     "output_type": "stream",
     "text": [
      "0       Fullmetal Alchemist: Brotherhood Action, Adven...\n",
      "1       Gintama° Action, Comedy, Historical, Parody, S...\n",
      "2                            Steins;Gate Sci-Fi, Thriller\n",
      "3       Gintama&#039; Action, Comedy, Historical, Paro...\n",
      "4       Haikyuu!!: Karasuno Koukou VS Shiratorizawa Ga...\n",
      "                              ...                        \n",
      "6630          O-parts: Oman Action, Comedy, Hentai, Mecha\n",
      "6631           Docchi mo Maid Action, Comedy, Ecchi, Yuri\n",
      "6632                  Citrus Drama, Romance, School, Yuri\n",
      "6633                              Hitorijime My Hero Yaoi\n",
      "6634              Junjou Shoujo Et Cetera Specials Hentai\n",
      "Length: 6635, dtype: object\n"
     ]
    }
   ],
   "source": [
    "print(combined_features)"
   ]
  },
  {
   "cell_type": "code",
   "execution_count": 25,
   "metadata": {},
   "outputs": [
    {
     "name": "stdout",
     "output_type": "stream",
     "text": [
      "Mushishi Zoku Shou 2nd Season Adventure, Fantasy, Historical, Mystery, Seinen, Slice of Life, Supernatural\n"
     ]
    }
   ],
   "source": [
    "print(combined_features[12])"
   ]
  },
  {
   "cell_type": "code",
   "execution_count": 26,
   "metadata": {},
   "outputs": [],
   "source": [
    "anime_data['index'] = range(0, len(anime_data))"
   ]
  },
  {
   "cell_type": "code",
   "execution_count": 27,
   "metadata": {
    "id": "BfuttC_gLyfF"
   },
   "outputs": [],
   "source": [
    "# converting the text data to feature vectors\n",
    "\n",
    "vectorizer = TfidfVectorizer()"
   ]
  },
  {
   "cell_type": "code",
   "execution_count": 28,
   "metadata": {
    "id": "Leo5rQskMKxL"
   },
   "outputs": [],
   "source": [
    "feature_vectors = vectorizer.fit_transform(combined_features)"
   ]
  },
  {
   "cell_type": "code",
   "execution_count": 29,
   "metadata": {
    "colab": {
     "base_uri": "https://localhost:8080/"
    },
    "id": "qNbeeMSnMb2F",
    "outputId": "d027db64-6879-4086-ad68-b333dd258d25"
   },
   "outputs": [
    {
     "name": "stdout",
     "output_type": "stream",
     "text": [
      "  (0, 6260)\t0.17592831684286586\n",
      "  (0, 4271)\t0.2748663480147244\n",
      "  (0, 3987)\t0.2255488215366223\n",
      "  (0, 1779)\t0.16812037012084147\n",
      "  (0, 1548)\t0.1772309790068913\n",
      "  (0, 155)\t0.16397371685255427\n",
      "  (0, 146)\t0.15055399691248428\n",
      "  (0, 779)\t0.5082556216258819\n",
      "  (0, 250)\t0.4873769104486475\n",
      "  (0, 1914)\t0.4873769104486475\n",
      "  (1, 1800)\t0.23013953299170303\n",
      "  (1, 5916)\t0.23013953299170303\n",
      "  (1, 5847)\t0.43894588647742117\n",
      "  (1, 5176)\t0.34633049578008296\n",
      "  (1, 2603)\t0.3127685054453083\n",
      "  (1, 1125)\t0.1468604074725613\n",
      "  (1, 2144)\t0.6041335531150518\n",
      "  (1, 6260)\t0.2367319043857221\n",
      "  (1, 146)\t0.2025878212306663\n",
      "  (2, 6845)\t0.4541217119621063\n",
      "  (2, 2048)\t0.5617544894467066\n",
      "  (2, 6467)\t0.6217854450125571\n",
      "  (2, 1800)\t0.21399558953587375\n",
      "  (2, 5916)\t0.21399558953587375\n",
      "  (3, 8)\t0.3973101611461248\n",
      "  :\t:\n",
      "  (6630, 4165)\t0.23119012318834556\n",
      "  (6630, 1125)\t0.11570811272039355\n",
      "  (6630, 146)\t0.15961452687046704\n",
      "  (6631, 1455)\t0.5753523860580109\n",
      "  (6631, 4346)\t0.4109245387728023\n",
      "  (6631, 4007)\t0.4524173244527031\n",
      "  (6631, 7634)\t0.4480586222224418\n",
      "  (6631, 1597)\t0.2425495237948853\n",
      "  (6631, 1125)\t0.11111743640998832\n",
      "  (6631, 146)\t0.15328187991880998\n",
      "  (6632, 1077)\t0.7204003643435604\n",
      "  (6632, 7634)\t0.5610154794139947\n",
      "  (6632, 5680)\t0.23793553032887513\n",
      "  (6632, 5913)\t0.24212860663842745\n",
      "  (6632, 1548)\t0.22593222029184334\n",
      "  (6633, 2614)\t0.5809803740255717\n",
      "  (6633, 7492)\t0.522526430301867\n",
      "  (6633, 4513)\t0.434089027466147\n",
      "  (6633, 2530)\t0.4483242697719918\n",
      "  (6634, 899)\t0.5246005351641777\n",
      "  (6634, 1707)\t0.5246005351641777\n",
      "  (6634, 2525)\t0.38146157132643566\n",
      "  (6634, 3073)\t0.4524371831686331\n",
      "  (6634, 6422)\t0.2371348673353465\n",
      "  (6634, 6255)\t0.20770959677483258\n"
     ]
    }
   ],
   "source": [
    "print(feature_vectors)"
   ]
  },
  {
   "cell_type": "markdown",
   "metadata": {
    "id": "qEGga5yPMnXO"
   },
   "source": [
    "Cosine Similarity"
   ]
  },
  {
   "cell_type": "code",
   "execution_count": 30,
   "metadata": {
    "id": "MsKYCs31MeB6"
   },
   "outputs": [],
   "source": [
    "# getting the similarity scores using cosine similarity\n",
    "\n",
    "similarity = cosine_similarity(feature_vectors)"
   ]
  },
  {
   "cell_type": "code",
   "execution_count": 31,
   "metadata": {
    "colab": {
     "base_uri": "https://localhost:8080/"
    },
    "id": "46ha1PfTM-oQ",
    "outputId": "44407f14-2d52-436e-a815-e933ec75b4df",
    "scrolled": false
   },
   "outputs": [
    {
     "name": "stdout",
     "output_type": "stream",
     "text": [
      "[[1.         0.07214825 0.         ... 0.04004219 0.         0.        ]\n",
      " [0.07214825 1.         0.09849769 ... 0.         0.         0.        ]\n",
      " [0.         0.09849769 1.         ... 0.         0.         0.        ]\n",
      " ...\n",
      " [0.04004219 0.         0.         ... 1.         0.         0.        ]\n",
      " [0.         0.         0.         ... 0.         1.         0.        ]\n",
      " [0.         0.         0.         ... 0.         0.         1.        ]]\n"
     ]
    }
   ],
   "source": [
    "print(similarity)"
   ]
  },
  {
   "cell_type": "code",
   "execution_count": 32,
   "metadata": {},
   "outputs": [],
   "source": [
    "# print(similarity[2])"
   ]
  },
  {
   "cell_type": "code",
   "execution_count": 33,
   "metadata": {
    "colab": {
     "base_uri": "https://localhost:8080/"
    },
    "id": "PLkvII-wM_5I",
    "outputId": "de638c77-1595-4d1a-f8d2-db6a3c1aabf0"
   },
   "outputs": [
    {
     "name": "stdout",
     "output_type": "stream",
     "text": [
      "(6635, 6635)\n"
     ]
    }
   ],
   "source": [
    "print(similarity.shape)"
   ]
  },
  {
   "cell_type": "markdown",
   "metadata": {
    "id": "EG3JItMUWeDD"
   },
   "source": [
    "Getting the movie name from the user"
   ]
  },
  {
   "cell_type": "code",
   "execution_count": 55,
   "metadata": {
    "colab": {
     "base_uri": "https://localhost:8080/"
    },
    "id": "QUDZfTSxTHDf",
    "outputId": "c4e32c1a-0a70-4854-8eee-8660135694a5"
   },
   "outputs": [
    {
     "name": "stdout",
     "output_type": "stream",
     "text": [
      "What is your favourite anime[case sensitive]: Gintama\n"
     ]
    }
   ],
   "source": [
    "anime_name = input('What is your favourite anime[case sensitive]: ')\n"
   ]
  },
  {
   "cell_type": "code",
   "execution_count": 56,
   "metadata": {},
   "outputs": [
    {
     "data": {
      "text/plain": [
       "'Gintama'"
      ]
     },
     "execution_count": 56,
     "metadata": {},
     "output_type": "execute_result"
    }
   ],
   "source": [
    "anime_name"
   ]
  },
  {
   "cell_type": "code",
   "execution_count": 36,
   "metadata": {},
   "outputs": [],
   "source": [
    "# list_of_all_titles = anime_data['name'].tolist()\n",
    "# list_of_all_titles"
   ]
  },
  {
   "cell_type": "code",
   "execution_count": 37,
   "metadata": {},
   "outputs": [],
   "source": [
    "# find_close_match = difflib.get_close_matches(anime_name, list_of_all_titles)\n",
    "# find_close_match"
   ]
  },
  {
   "cell_type": "code",
   "execution_count": 38,
   "metadata": {},
   "outputs": [],
   "source": [
    "# close_match = find_close_match[0]\n",
    "# close_match"
   ]
  },
  {
   "cell_type": "code",
   "execution_count": 39,
   "metadata": {},
   "outputs": [],
   "source": [
    "# index_of_the_movie = anime_data[anime_data.name == close_match]['index'].values[0]\n",
    "# index_of_the_movie"
   ]
  },
  {
   "cell_type": "code",
   "execution_count": 40,
   "metadata": {},
   "outputs": [],
   "source": [
    "# similarity_score = list(enumerate(similarity[index_of_the_movie]))\n",
    "# similarity_score"
   ]
  },
  {
   "cell_type": "code",
   "execution_count": 41,
   "metadata": {},
   "outputs": [],
   "source": [
    "# sorted_similar_movies = sorted(similarity_score, key = lambda x:x[1], reverse = True) \n",
    "# sorted_similar_movies"
   ]
  },
  {
   "cell_type": "code",
   "execution_count": 42,
   "metadata": {},
   "outputs": [],
   "source": [
    "# print('Animes suggested for you: \\n')\n",
    "\n",
    "# i = 1\n",
    "\n",
    "# for anime in sorted_similar_movies:\n",
    "#   index = anime[0]\n",
    "#   title_from_index = anime_data[anime_data.index==index]['name'].values[0]\n",
    "#   if (i<11):\n",
    "#     print(i,'.',title_from_index)\n",
    "#     i+=1"
   ]
  },
  {
   "cell_type": "code",
   "execution_count": 60,
   "metadata": {
    "scrolled": false
   },
   "outputs": [
    {
     "name": "stdout",
     "output_type": "stream",
     "text": [
      "Movies suggested for you : \n",
      "\n",
      "1 . Gintama° [ Score:  9.25  |  TV  | Ep: 51 ]\n",
      "2 . Gintama [ Score:  9.04  |  TV  | Ep: 201 ]\n",
      "3 . Gintama&#039; [ Score:  9.16  |  TV  | Ep: 51 ]\n",
      "4 . Gintama (2017) [ Score:  nan  |  TV  | Ep: Unknown ]\n",
      "5 . Gintama&#039;: Enchousen [ Score:  9.11  |  TV  | Ep: 13 ]\n",
      "6 . Gintama: Yorinuki Gintama-san on Theater 2D [ Score:  8.6  |  Movie  | Ep: 2 ]\n",
      "7 . Gintama: Shinyaku Benizakura-hen [ Score:  8.31  |  Special  | Ep: 1 ]\n",
      "8 . Gintama Movie: Shinyaku Benizakura-hen [ Score:  8.59  |  Movie  | Ep: 1 ]\n",
      "9 . Gintama: Jump Festa 2014 Special [ Score:  8.2  |  Special  | Ep: 1 ]\n",
      "10 . Gintama: Dai Hanseikai [ Score:  8.19  |  Special  | Ep: 1 ]\n"
     ]
    }
   ],
   "source": [
    "list_of_all_titles = anime_data['name'].tolist()\n",
    "\n",
    "find_close_match = difflib.get_close_matches(anime_name, list_of_all_titles)\n",
    "\n",
    "close_match = find_close_match[0]\n",
    "\n",
    "index_of_the_movie = anime_data[anime_data.name == close_match]['index'].values[0]\n",
    "\n",
    "similarity_score = list(enumerate(similarity[index_of_the_movie]))\n",
    "\n",
    "sorted_similar_movies = sorted(similarity_score, key = lambda x:x[1], reverse = True) \n",
    "\n",
    "print('Movies suggested for you : \\n')\n",
    "\n",
    "i = 1\n",
    "\n",
    "for movie in sorted_similar_movies:\n",
    "    index = movie[0]\n",
    "    title_from_index = anime_data[anime_data.index==index]['name'].values[0]\n",
    "    scores_from_index = anime_data[anime_data.index==index]['rating'].values[0]\n",
    "    type_from_index = anime_data[anime_data.index==index]['type'].values[0]\n",
    "    episode_from_index = anime_data[anime_data.index==index]['episodes'].values[0]\n",
    "    \n",
    "        \n",
    "    \n",
    "    if (i<11):\n",
    "        print(i,'.',title_from_index, \"[ Score: \", scores_from_index,\" | \" ,type_from_index,\" | Ep:\" ,episode_from_index, \"]\")\n",
    "        i+=1"
   ]
  },
  {
   "cell_type": "code",
   "execution_count": 59,
   "metadata": {},
   "outputs": [
    {
     "data": {
      "text/plain": [
       "12"
      ]
     },
     "execution_count": 59,
     "metadata": {},
     "output_type": "execute_result"
    }
   ],
   "source": [
    "anime_data[anime_data.name == close_match]['index'].values[0]"
   ]
  },
  {
   "cell_type": "code",
   "execution_count": null,
   "metadata": {
    "scrolled": true
   },
   "outputs": [
    {
     "name": "stderr",
     "output_type": "stream",
     "text": [
      "Exception in Tkinter callback\n",
      "Traceback (most recent call last):\n",
      "  File \"C:\\Users\\User\\anaconda3\\lib\\tkinter\\__init__.py\", line 1892, in __call__\n",
      "    return self.func(*args)\n",
      "  File \"C:\\Users\\User\\AppData\\Local\\Temp/ipykernel_5432/3462931804.py\", line 36, in show_data\n",
      "    movie_index = get_index_from_title(movie_user_likes)\n",
      "  File \"C:\\Users\\User\\AppData\\Local\\Temp/ipykernel_5432/3462931804.py\", line 27, in get_index_from_title\n",
      "    return anime_data[ anime_data.name == name][\"index\"].values[0]\n",
      "IndexError: index 0 is out of bounds for axis 0 with size 0\n"
     ]
    }
   ],
   "source": [
    "from tkinter import *\n",
    "import pandas as pd\n",
    "import numpy as np\n",
    "import difflib\n",
    "from sklearn.feature_extraction.text import TfidfVectorizer\n",
    "from sklearn.metrics.pairwise import cosine_similarity\n",
    "import seaborn as sns\n",
    "import re\n",
    "anime_data = pd.read_csv('anime.csv')\n",
    "selected_features = ['name','genre']\n",
    "\n",
    "for feature in selected_features:\n",
    "      anime_data[feature] = anime_data[feature].fillna('')\n",
    "\n",
    "combined_features = anime_data['name']+' '+anime_data['genre']\n",
    "anime_data['index'] = range(0, len(anime_data))\n",
    "vectorizer = TfidfVectorizer()\n",
    "feature_vectors = vectorizer.fit_transform(combined_features)\n",
    "similarity = cosine_similarity(feature_vectors)\n",
    "\n",
    "\n",
    "\n",
    "\n",
    "\n",
    "\n",
    "def get_index_from_title(name):\n",
    "    return anime_data[ anime_data.name == name][\"index\"].values[0]\n",
    "\n",
    "def get_title_from_index(index):\n",
    "    return anime_data[anime_data.index==index]['name'].values[0]\n",
    "\n",
    "def show_data():\n",
    "    txt.delete(0.0, 'end')\n",
    "    anime_name =ent.get()\n",
    "    movie_user_likes =anime_name        \n",
    "    movie_index = get_index_from_title(movie_user_likes)\n",
    "                \n",
    "    i=int(movie_index)\n",
    "    similarity_score = list(enumerate(similarity[i]))\n",
    "    \n",
    "    sorted_similar_movies = sorted(similarity_score, key = lambda x:x[1], reverse = True) \n",
    "\n",
    "                \n",
    "                \n",
    "    i=0;\n",
    "    j=0;\n",
    "    List =[None]*15\n",
    "    for element in sorted_similar_movies:\n",
    "            \n",
    "            s=get_title_from_index(element[0])\n",
    "            List[j]=s\n",
    "            j=j+1;\n",
    "            \n",
    "            \n",
    "            i=i+1;\n",
    "            if i>=15:\n",
    "                break\n",
    "            \n",
    "            \n",
    "    for x in range(len(List) -1, -1, -1): \n",
    "            t=\"\\n\"\n",
    "            txt.insert(0.0, List[x])\n",
    "            txt.insert(0.0, t)\n",
    "   \n",
    "\n",
    "\n",
    "root=Tk()\n",
    "root.geometry(\"420x300\")\n",
    "root.title('Anime_Recommender')               \n",
    "l1 = Label(root, text=\"Enter Anime name: \")\n",
    "l2 = Label(root, text=\"Top Ten suggestion For You: \")\n",
    "               \n",
    "ent =Entry(root)\n",
    "            \n",
    "l1.grid(row=0)\n",
    "l2.grid(row=2)\n",
    "               \n",
    "ent.grid(row=0, column=1)\n",
    "               \n",
    "        \n",
    "txt=Text(root,width=50,height=13, wrap=WORD)\n",
    "txt.grid(row=3, columnspan=2, sticky=W)\n",
    "               \n",
    "btn=Button(root, text=\"Search\", bg=\"purple\", fg=\"white\", command=show_data)\n",
    "btn.grid(row=1, columnspan=2)\n",
    "root.mainloop()\n",
    "\n",
    "\n"
   ]
  },
  {
   "cell_type": "code",
   "execution_count": null,
   "metadata": {},
   "outputs": [],
   "source": []
  },
  {
   "cell_type": "code",
   "execution_count": null,
   "metadata": {},
   "outputs": [],
   "source": []
  }
 ],
 "metadata": {
  "colab": {
   "collapsed_sections": [],
   "name": "Project 18. Movie Recommendation System using Machine Learning with Python.ipynb",
   "provenance": []
  },
  "kernelspec": {
   "display_name": "Python 3 (ipykernel)",
   "language": "python",
   "name": "python3"
  },
  "language_info": {
   "codemirror_mode": {
    "name": "ipython",
    "version": 3
   },
   "file_extension": ".py",
   "mimetype": "text/x-python",
   "name": "python",
   "nbconvert_exporter": "python",
   "pygments_lexer": "ipython3",
   "version": "3.9.7"
  }
 },
 "nbformat": 4,
 "nbformat_minor": 1
}
